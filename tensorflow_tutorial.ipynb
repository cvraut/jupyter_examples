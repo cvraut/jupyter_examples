{
 "cells": [
  {
   "cell_type": "markdown",
   "id": "08de4a2b-c2c3-4f6a-a917-f9e26c31f16c",
   "metadata": {},
   "source": [
    "# TensorFlow Tutorial"
   ]
  },
  {
   "cell_type": "code",
   "execution_count": 1,
   "id": "6b3e9653-1834-4727-a4c7-ee69e6ae7daf",
   "metadata": {
    "execution": {
     "iopub.execute_input": "2023-09-20T18:33:10.811800Z",
     "iopub.status.busy": "2023-09-20T18:33:10.811504Z",
     "iopub.status.idle": "2023-09-20T18:33:11.154598Z",
     "shell.execute_reply": "2023-09-20T18:33:11.153983Z",
     "shell.execute_reply.started": "2023-09-20T18:33:10.811779Z"
    }
   },
   "outputs": [
    {
     "name": "stdout",
     "output_type": "stream",
     "text": [
      "/app/apps/rhel8/jupyter/2023-04/lib/python3.10/site-packages/nvidia/cudnn\n",
      "/usr/local/cuda/lib64:/usr/local/cuda/lib64:/app/apps/rhel8/jupyter/2023-04/lib/python3.10/site-packages/nvidia/cudnn/lib:/app/apps/rhel8/jupyter/2023-04/lib/python3.10/site-packages/tensorrt_libs:/app/apps/rhel8/python-anaconda3/2023-04/lib::\n",
      "/app/apps/rhel8/jupyter/2023-04/bin:/usr/local/sbin:/usr/local/bin:/usr/sbin:/usr/bin:/opt/jupyterhub/bin:/common/bin:/usr/local/cuda/bin:/usr/localsys/bin:/usr/share/Modules/bin:/bin\n"
     ]
    }
   ],
   "source": [
    "## note we need to make sure these environment variables are set properly for tensorflow to properly make use of the GPU\n",
    "# should be: /app/apps/rhel8/jupyter/2023-04/lib/python3.10/site-packages/nvidia/cudnn\n",
    "!echo $CUDNN_PATH\n",
    "# should be: /usr/local/cuda/lib64:/usr/local/cuda/lib64:/app/apps/rhel8/jupyter/2023-04/lib/python3.10/site-packages/nvidia/cudnn/lib:/app/apps/rhel8/jupyter/2023-04/lib/python3.10/site-packages/tensorrt_libs:/app/apps/rhel8/python-anaconda3/2023-04/lib::\n",
    "!echo $LD_LIBRARY_PATH\n",
    "# must include: /app/apps/rhel8/jupyter/2023-04/bin:/bin:/usr/local/sbin:/usr/local/bin:/usr/sbin:/usr/bin:/opt/jupyterhub/bin:/common/bin:/usr/local/cuda/bin:/usr/localsys/bin:/usr/share/Modules/bin\n",
    "!echo $PATH"
   ]
  },
  {
   "cell_type": "code",
   "execution_count": 2,
   "id": "4db821e3-a86f-4906-99da-97f8fcad7de4",
   "metadata": {
    "execution": {
     "iopub.execute_input": "2023-09-20T18:33:11.156128Z",
     "iopub.status.busy": "2023-09-20T18:33:11.155857Z",
     "iopub.status.idle": "2023-09-20T18:33:14.943164Z",
     "shell.execute_reply": "2023-09-20T18:33:14.942374Z",
     "shell.execute_reply.started": "2023-09-20T18:33:11.156108Z"
    }
   },
   "outputs": [
    {
     "name": "stderr",
     "output_type": "stream",
     "text": [
      "2023-09-20 14:33:11.452882: I tensorflow/core/util/port.cc:110] oneDNN custom operations are on. You may see slightly different numerical results due to floating-point round-off errors from different computation orders. To turn them off, set the environment variable `TF_ENABLE_ONEDNN_OPTS=0`.\n",
      "2023-09-20 14:33:11.507614: I tensorflow/core/platform/cpu_feature_guard.cc:182] This TensorFlow binary is optimized to use available CPU instructions in performance-critical operations.\n",
      "To enable the following instructions: AVX2 AVX512F AVX512_VNNI FMA, in other operations, rebuild TensorFlow with the appropriate compiler flags.\n"
     ]
    }
   ],
   "source": [
    "import tensorflow as tf"
   ]
  },
  {
   "cell_type": "code",
   "execution_count": 3,
   "id": "ba470b5e-0d5d-4a9c-b537-8811bc3cb2c2",
   "metadata": {
    "execution": {
     "iopub.execute_input": "2023-09-20T18:33:14.944584Z",
     "iopub.status.busy": "2023-09-20T18:33:14.944106Z",
     "iopub.status.idle": "2023-09-20T18:33:14.948042Z",
     "shell.execute_reply": "2023-09-20T18:33:14.947538Z",
     "shell.execute_reply.started": "2023-09-20T18:33:14.944556Z"
    }
   },
   "outputs": [
    {
     "name": "stdout",
     "output_type": "stream",
     "text": [
      "TensorFlow version: 2.13.0\n"
     ]
    }
   ],
   "source": [
    "print(\"TensorFlow version:\", tf.__version__)"
   ]
  },
  {
   "cell_type": "code",
   "execution_count": 4,
   "id": "a3206fbc-304d-4c9e-b18e-b3731881a1ec",
   "metadata": {
    "execution": {
     "iopub.execute_input": "2023-09-20T18:33:14.949085Z",
     "iopub.status.busy": "2023-09-20T18:33:14.948724Z",
     "iopub.status.idle": "2023-09-20T18:33:15.310504Z",
     "shell.execute_reply": "2023-09-20T18:33:15.309581Z",
     "shell.execute_reply.started": "2023-09-20T18:33:14.949066Z"
    }
   },
   "outputs": [],
   "source": [
    "from tensorflow import keras\n",
    "from tensorflow.keras import layers, models, datasets\n",
    "import time\n",
    "from tensorflow.python.client import device_lib\n",
    "from numba import cuda "
   ]
  },
  {
   "cell_type": "code",
   "execution_count": 5,
   "id": "63ef9f86-69a0-422e-8af9-d5cf9988d680",
   "metadata": {
    "execution": {
     "iopub.execute_input": "2023-09-20T18:33:15.312522Z",
     "iopub.status.busy": "2023-09-20T18:33:15.312133Z",
     "iopub.status.idle": "2023-09-20T18:33:15.973376Z",
     "shell.execute_reply": "2023-09-20T18:33:15.972849Z",
     "shell.execute_reply.started": "2023-09-20T18:33:15.312500Z"
    }
   },
   "outputs": [
    {
     "name": "stderr",
     "output_type": "stream",
     "text": [
      "2023-09-20 14:33:15.966850: I tensorflow/core/common_runtime/gpu/gpu_device.cc:1639] Created device /device:GPU:0 with 14551 MB memory:  -> device: 0, name: Tesla P6, pci bus id: 0000:18:00.0, compute capability: 6.1\n"
     ]
    },
    {
     "data": {
      "text/plain": [
       "['/device:CPU:0', '/device:GPU:0']"
      ]
     },
     "execution_count": 5,
     "metadata": {},
     "output_type": "execute_result"
    }
   ],
   "source": [
    "def get_available_devices():\n",
    "    local_device_protos = device_lib.list_local_devices()\n",
    "    return [x.name for x in local_device_protos if x.device_type == 'GPU' or x.device_type == 'CPU']\n",
    "get_available_devices()"
   ]
  },
  {
   "cell_type": "code",
   "execution_count": 6,
   "id": "93fbef3c-bb07-4f69-8d3e-dea9d8384951",
   "metadata": {
    "execution": {
     "iopub.execute_input": "2023-09-20T18:33:15.974363Z",
     "iopub.status.busy": "2023-09-20T18:33:15.974097Z",
     "iopub.status.idle": "2023-09-20T18:34:21.060652Z",
     "shell.execute_reply": "2023-09-20T18:34:21.059928Z",
     "shell.execute_reply.started": "2023-09-20T18:33:15.974343Z"
    }
   },
   "outputs": [
    {
     "name": "stderr",
     "output_type": "stream",
     "text": [
      "2023-09-20 14:33:17.129761: I tensorflow/core/common_runtime/gpu/gpu_device.cc:1639] Created device /job:localhost/replica:0/task:0/device:GPU:0 with 14551 MB memory:  -> device: 0, name: Tesla P6, pci bus id: 0000:18:00.0, compute capability: 6.1\n"
     ]
    },
    {
     "name": "stdout",
     "output_type": "stream",
     "text": [
      "Epoch 1/10\n"
     ]
    },
    {
     "name": "stderr",
     "output_type": "stream",
     "text": [
      "2023-09-20 14:33:19.646102: I tensorflow/compiler/xla/stream_executor/cuda/cuda_dnn.cc:432] Loaded cuDNN version 8600\n",
      "2023-09-20 14:33:19.894156: I tensorflow/compiler/xla/service/service.cc:168] XLA service 0x7fdac74d9ba0 initialized for platform CUDA (this does not guarantee that XLA will be used). Devices:\n",
      "2023-09-20 14:33:19.894186: I tensorflow/compiler/xla/service/service.cc:176]   StreamExecutor device (0): Tesla P6, Compute Capability 6.1\n",
      "2023-09-20 14:33:19.899571: I tensorflow/compiler/mlir/tensorflow/utils/dump_mlir_util.cc:255] disabling MLIR crash reproducer, set env var `MLIR_CRASH_REPRODUCER_DIRECTORY` to enable.\n",
      "2023-09-20 14:33:20.051609: I ./tensorflow/compiler/jit/device_compiler.h:186] Compiled cluster using XLA!  This line is logged at most once for the lifetime of the process.\n"
     ]
    },
    {
     "name": "stdout",
     "output_type": "stream",
     "text": [
      "1563/1563 [==============================] - 9s 4ms/step - loss: 1.5622 - accuracy: 0.4187 - val_loss: 1.2577 - val_accuracy: 0.5441\n",
      "Epoch 2/10\n",
      "1563/1563 [==============================] - 5s 3ms/step - loss: 1.1877 - accuracy: 0.5744 - val_loss: 1.0886 - val_accuracy: 0.6148\n",
      "Epoch 3/10\n",
      "1563/1563 [==============================] - 6s 4ms/step - loss: 1.0390 - accuracy: 0.6316 - val_loss: 1.0093 - val_accuracy: 0.6443\n",
      "Epoch 4/10\n",
      "1563/1563 [==============================] - 6s 4ms/step - loss: 0.9341 - accuracy: 0.6717 - val_loss: 0.9739 - val_accuracy: 0.6596\n",
      "Epoch 5/10\n",
      "1563/1563 [==============================] - 6s 4ms/step - loss: 0.8666 - accuracy: 0.6943 - val_loss: 0.9452 - val_accuracy: 0.6727\n",
      "Epoch 6/10\n",
      "1563/1563 [==============================] - 6s 4ms/step - loss: 0.7969 - accuracy: 0.7202 - val_loss: 0.9124 - val_accuracy: 0.6828\n",
      "Epoch 7/10\n",
      "1563/1563 [==============================] - 6s 4ms/step - loss: 0.7485 - accuracy: 0.7361 - val_loss: 0.8645 - val_accuracy: 0.7018\n",
      "Epoch 8/10\n",
      "1563/1563 [==============================] - 6s 4ms/step - loss: 0.7034 - accuracy: 0.7553 - val_loss: 0.8636 - val_accuracy: 0.7039\n",
      "Epoch 9/10\n",
      "1563/1563 [==============================] - 6s 4ms/step - loss: 0.6709 - accuracy: 0.7653 - val_loss: 0.9385 - val_accuracy: 0.6913\n",
      "Epoch 10/10\n",
      "1563/1563 [==============================] - 6s 4ms/step - loss: 0.6316 - accuracy: 0.7801 - val_loss: 0.8849 - val_accuracy: 0.7110\n",
      "Time to fit model on GPU: 62.78 seconds\n",
      "Evaluate on test data\n",
      "313/313 [==============================] - 1s 2ms/step - loss: 0.8849 - accuracy: 0.7110\n",
      "test loss, test acc: [0.8848978281021118, 0.7110000252723694]\n"
     ]
    }
   ],
   "source": [
    "# Download and prepare the CIFAR10 dataset\n",
    "(train_images, train_labels), (test_images, test_labels) = datasets.cifar10.load_data()\n",
    "# Normalize pixel values to be between 0 and 1\n",
    "train_images, test_images = train_images / 255.0, test_images / 255.0\n",
    "\n",
    "# Create the convolutional base\n",
    "model = models.Sequential()\n",
    "model.add(layers.Conv2D(32, (3, 3), activation='relu', input_shape=(32, 32, 3)))\n",
    "model.add(layers.MaxPooling2D((2, 2)))\n",
    "model.add(layers.Conv2D(64, (3, 3), activation='relu'))\n",
    "model.add(layers.MaxPooling2D((2, 2)))\n",
    "model.add(layers.Conv2D(64, (3, 3), activation='relu'))\n",
    "\n",
    "# Add Dense layers on top\n",
    "model.add(layers.Flatten())\n",
    "model.add(layers.Dense(64, activation='relu'))\n",
    "model.add(layers.Dense(64, activation='relu'))\n",
    "model.add(layers.Dense(64, activation='relu'))\n",
    "model.add(layers.Dense(10))\n",
    "\n",
    "# Compile and train the model\n",
    "model.compile(optimizer='adam',\n",
    "              loss=tf.keras.losses.SparseCategoricalCrossentropy(from_logits=True),\n",
    "              metrics=['accuracy'])\n",
    "# Fit the model on GPU\n",
    "start_time = time.time()\n",
    "history = model.fit(train_images, train_labels, epochs=10,\n",
    "                    validation_data=(test_images, test_labels))\n",
    "end_time = time.time()\n",
    "print(\"Time to fit model on GPU: {:.2f} seconds\".format(end_time - start_time))\n",
    "\n",
    "# Evaluate the model on the test data using `evaluate`\n",
    "print(\"Evaluate on test data\")\n",
    "results = model.evaluate(test_images, test_labels)\n",
    "print(\"test loss, test acc:\", results)"
   ]
  },
  {
   "cell_type": "code",
   "execution_count": 7,
   "id": "450eb757-ccfa-4b6c-b7bf-d5bcf339389f",
   "metadata": {
    "execution": {
     "iopub.execute_input": "2023-09-20T18:34:21.061931Z",
     "iopub.status.busy": "2023-09-20T18:34:21.061675Z",
     "iopub.status.idle": "2023-09-20T18:34:21.321255Z",
     "shell.execute_reply": "2023-09-20T18:34:21.320301Z",
     "shell.execute_reply.started": "2023-09-20T18:34:21.061909Z"
    }
   },
   "outputs": [],
   "source": [
    "# free up the GPU memory so other people/processes can use it\n",
    "device = cuda.get_current_device()\n",
    "device.reset()"
   ]
  },
  {
   "cell_type": "code",
   "execution_count": 8,
   "id": "a17f4b7d-d13c-4171-bdb4-37b0e481bad7",
   "metadata": {
    "execution": {
     "iopub.execute_input": "2023-09-20T18:34:21.322361Z",
     "iopub.status.busy": "2023-09-20T18:34:21.322091Z",
     "iopub.status.idle": "2023-09-20T18:35:15.413934Z",
     "shell.execute_reply": "2023-09-20T18:35:15.413248Z",
     "shell.execute_reply.started": "2023-09-20T18:34:21.322341Z"
    }
   },
   "outputs": [
    {
     "name": "stdout",
     "output_type": "stream",
     "text": [
      "Num GPUs Available:  1\n",
      "### TRAINING ###\n",
      "(34634, 248) (34634,)\n",
      "Fitting Model on All Data\n",
      "Epoch 1/100\n",
      "217/217 [==============================] - 4s 5ms/step - loss: 23.8957 - root_mean_squared_error: 4.6145 - mean_absolute_error: 2.9015 - val_loss: 17.9723 - val_root_mean_squared_error: 3.9442 - val_mean_absolute_error: 2.9703\n",
      "Epoch 2/100\n",
      "217/217 [==============================] - 1s 5ms/step - loss: 18.5474 - root_mean_squared_error: 4.0303 - mean_absolute_error: 2.5431 - val_loss: 47.9422 - val_root_mean_squared_error: 6.7635 - val_mean_absolute_error: 5.6029\n",
      "Epoch 3/100\n",
      "217/217 [==============================] - 1s 5ms/step - loss: 17.0558 - root_mean_squared_error: 3.8675 - mean_absolute_error: 2.4117 - val_loss: 17.7999 - val_root_mean_squared_error: 3.9750 - val_mean_absolute_error: 2.1202\n",
      "Epoch 4/100\n",
      "217/217 [==============================] - 1s 5ms/step - loss: 16.4144 - root_mean_squared_error: 3.8087 - mean_absolute_error: 2.3487 - val_loss: 15.3332 - val_root_mean_squared_error: 3.6764 - val_mean_absolute_error: 2.3090\n",
      "Epoch 5/100\n",
      "217/217 [==============================] - 1s 5ms/step - loss: 15.8103 - root_mean_squared_error: 3.7521 - mean_absolute_error: 2.2920 - val_loss: 112.8691 - val_root_mean_squared_error: 10.5462 - val_mean_absolute_error: 10.1479\n",
      "Epoch 6/100\n",
      "217/217 [==============================] - 1s 5ms/step - loss: 15.3285 - root_mean_squared_error: 3.7096 - mean_absolute_error: 2.2498 - val_loss: 24.5970 - val_root_mean_squared_error: 4.8070 - val_mean_absolute_error: 4.2347\n",
      "Epoch 7/100\n",
      "217/217 [==============================] - 1s 5ms/step - loss: 14.8223 - root_mean_squared_error: 3.6609 - mean_absolute_error: 2.2305 - val_loss: 18.7630 - val_root_mean_squared_error: 4.1725 - val_mean_absolute_error: 2.1036\n",
      "Epoch 8/100\n",
      "217/217 [==============================] - 1s 5ms/step - loss: 14.6664 - root_mean_squared_error: 3.6572 - mean_absolute_error: 2.2143 - val_loss: 21.8090 - val_root_mean_squared_error: 4.5363 - val_mean_absolute_error: 2.4344\n",
      "Epoch 9/100\n",
      "217/217 [==============================] - 1s 5ms/step - loss: 14.2923 - root_mean_squared_error: 3.6213 - mean_absolute_error: 2.1825 - val_loss: 18.2267 - val_root_mean_squared_error: 4.1350 - val_mean_absolute_error: 3.4388\n",
      "Epoch 10/100\n",
      "217/217 [==============================] - 1s 5ms/step - loss: 14.1350 - root_mean_squared_error: 3.6131 - mean_absolute_error: 2.1671 - val_loss: 404.6988 - val_root_mean_squared_error: 20.0914 - val_mean_absolute_error: 19.7566\n",
      "Epoch 11/100\n",
      "217/217 [==============================] - 1s 5ms/step - loss: 13.7796 - root_mean_squared_error: 3.5750 - mean_absolute_error: 2.1499 - val_loss: 46.9502 - val_root_mean_squared_error: 6.7816 - val_mean_absolute_error: 5.4817\n",
      "Epoch 12/100\n",
      "217/217 [==============================] - 1s 4ms/step - loss: 13.7499 - root_mean_squared_error: 3.5810 - mean_absolute_error: 2.1424 - val_loss: 18.9663 - val_root_mean_squared_error: 4.2516 - val_mean_absolute_error: 2.1415\n",
      "Epoch 13/100\n",
      "217/217 [==============================] - 1s 5ms/step - loss: 13.4708 - root_mean_squared_error: 3.5508 - mean_absolute_error: 2.1250 - val_loss: 28.4937 - val_root_mean_squared_error: 5.2593 - val_mean_absolute_error: 3.3897\n",
      "Epoch 14/100\n",
      "217/217 [==============================] - 1s 4ms/step - loss: 13.4340 - root_mean_squared_error: 3.5532 - mean_absolute_error: 2.1279 - val_loss: 13.5186 - val_root_mean_squared_error: 3.5680 - val_mean_absolute_error: 2.2409\n",
      "Epoch 15/100\n",
      "217/217 [==============================] - 1s 5ms/step - loss: 13.2110 - root_mean_squared_error: 3.5276 - mean_absolute_error: 2.1051 - val_loss: 29.2302 - val_root_mean_squared_error: 5.3368 - val_mean_absolute_error: 3.5939\n",
      "Epoch 16/100\n",
      "217/217 [==============================] - 1s 4ms/step - loss: 13.2571 - root_mean_squared_error: 3.5390 - mean_absolute_error: 2.1086 - val_loss: 425.3513 - val_root_mean_squared_error: 20.6068 - val_mean_absolute_error: 20.2785\n",
      "Epoch 17/100\n",
      "217/217 [==============================] - 1s 4ms/step - loss: 13.0872 - root_mean_squared_error: 3.5197 - mean_absolute_error: 2.0999 - val_loss: 15.2103 - val_root_mean_squared_error: 3.8111 - val_mean_absolute_error: 2.0006\n",
      "Epoch 18/100\n",
      "217/217 [==============================] - 1s 4ms/step - loss: 13.2014 - root_mean_squared_error: 3.5389 - mean_absolute_error: 2.1072 - val_loss: 61.7475 - val_root_mean_squared_error: 7.8154 - val_mean_absolute_error: 6.7099\n",
      "Epoch 19/100\n",
      "217/217 [==============================] - 1s 4ms/step - loss: 12.9218 - root_mean_squared_error: 3.5023 - mean_absolute_error: 2.0887 - val_loss: 79.1278 - val_root_mean_squared_error: 8.8591 - val_mean_absolute_error: 8.4377\n",
      "Epoch 20/100\n",
      "217/217 [==============================] - 1s 5ms/step - loss: 12.9022 - root_mean_squared_error: 3.5019 - mean_absolute_error: 2.0925 - val_loss: 33.5882 - val_root_mean_squared_error: 5.7411 - val_mean_absolute_error: 4.1382\n",
      "Epoch 21/100\n",
      "217/217 [==============================] - 1s 5ms/step - loss: 12.9925 - root_mean_squared_error: 3.5176 - mean_absolute_error: 2.0957 - val_loss: 66.9950 - val_root_mean_squared_error: 8.1478 - val_mean_absolute_error: 7.6458\n",
      "Epoch 22/100\n",
      "217/217 [==============================] - 1s 5ms/step - loss: 12.7967 - root_mean_squared_error: 3.4917 - mean_absolute_error: 2.0819 - val_loss: 39.9096 - val_root_mean_squared_error: 6.2696 - val_mean_absolute_error: 4.8926\n",
      "Epoch 23/100\n",
      "217/217 [==============================] - 1s 4ms/step - loss: 12.8004 - root_mean_squared_error: 3.4935 - mean_absolute_error: 2.0836 - val_loss: 13.3178 - val_root_mean_squared_error: 3.5675 - val_mean_absolute_error: 2.4558\n",
      "Epoch 24/100\n",
      "217/217 [==============================] - 1s 4ms/step - loss: 12.7852 - root_mean_squared_error: 3.4929 - mean_absolute_error: 2.0853 - val_loss: 67.6640 - val_root_mean_squared_error: 8.1903 - val_mean_absolute_error: 7.1822\n",
      "Epoch 25/100\n",
      "217/217 [==============================] - 1s 4ms/step - loss: 12.8411 - root_mean_squared_error: 3.5019 - mean_absolute_error: 2.0933 - val_loss: 28.6188 - val_root_mean_squared_error: 5.2960 - val_mean_absolute_error: 3.5628\n",
      "Epoch 26/100\n",
      "217/217 [==============================] - 1s 4ms/step - loss: 12.5648 - root_mean_squared_error: 3.4636 - mean_absolute_error: 2.0742 - val_loss: 855.4873 - val_root_mean_squared_error: 29.2390 - val_mean_absolute_error: 28.9823\n",
      "Epoch 27/100\n",
      "217/217 [==============================] - 1s 4ms/step - loss: 12.6725 - root_mean_squared_error: 3.4799 - mean_absolute_error: 2.0850 - val_loss: 16.8347 - val_root_mean_squared_error: 4.0345 - val_mean_absolute_error: 3.3114\n",
      "Epoch 28/100\n",
      "217/217 [==============================] - 1s 4ms/step - loss: 12.6059 - root_mean_squared_error: 3.4713 - mean_absolute_error: 2.0755 - val_loss: 137.5199 - val_root_mean_squared_error: 11.7033 - val_mean_absolute_error: 11.0287\n",
      "Epoch 29/100\n",
      "217/217 [==============================] - 1s 5ms/step - loss: 12.6350 - root_mean_squared_error: 3.4761 - mean_absolute_error: 2.0812 - val_loss: 15.3597 - val_root_mean_squared_error: 3.8486 - val_mean_absolute_error: 2.1822\n",
      "Epoch 30/100\n",
      "217/217 [==============================] - 1s 5ms/step - loss: 12.5202 - root_mean_squared_error: 3.4597 - mean_absolute_error: 2.0708 - val_loss: 62.8508 - val_root_mean_squared_error: 7.8930 - val_mean_absolute_error: 6.8284\n",
      "Epoch 31/100\n",
      "217/217 [==============================] - 1s 5ms/step - loss: 12.5747 - root_mean_squared_error: 3.4670 - mean_absolute_error: 2.0843 - val_loss: 812.5669 - val_root_mean_squared_error: 28.4958 - val_mean_absolute_error: 28.2536\n",
      "Epoch 32/100\n",
      "217/217 [==============================] - 1s 5ms/step - loss: 12.5004 - root_mean_squared_error: 3.4565 - mean_absolute_error: 2.0711 - val_loss: 39.7716 - val_root_mean_squared_error: 6.2624 - val_mean_absolute_error: 4.9298\n",
      "Epoch 33/100\n",
      "217/217 [==============================] - 1s 5ms/step - loss: 12.5722 - root_mean_squared_error: 3.4674 - mean_absolute_error: 2.0738 - val_loss: 349.5185 - val_root_mean_squared_error: 18.6808 - val_mean_absolute_error: 18.3378\n",
      "Epoch 34/100\n",
      "217/217 [==============================] - 1s 5ms/step - loss: 12.5766 - root_mean_squared_error: 3.4683 - mean_absolute_error: 2.0782 - val_loss: 25.7541 - val_root_mean_squared_error: 5.0208 - val_mean_absolute_error: 3.1459\n",
      "Epoch 35/100\n",
      "217/217 [==============================] - 1s 5ms/step - loss: 12.4770 - root_mean_squared_error: 3.4539 - mean_absolute_error: 2.0745 - val_loss: 14.3775 - val_root_mean_squared_error: 3.7183 - val_mean_absolute_error: 2.4873\n",
      "Epoch 36/100\n",
      "217/217 [==============================] - 1s 5ms/step - loss: 12.6424 - root_mean_squared_error: 3.4767 - mean_absolute_error: 2.0871 - val_loss: 49.7049 - val_root_mean_squared_error: 7.0107 - val_mean_absolute_error: 5.8224\n",
      "Epoch 37/100\n",
      "217/217 [==============================] - 1s 5ms/step - loss: 12.4957 - root_mean_squared_error: 3.4553 - mean_absolute_error: 2.0710 - val_loss: 15.3599 - val_root_mean_squared_error: 3.8470 - val_mean_absolute_error: 3.0140\n",
      "Epoch 38/100\n",
      "217/217 [==============================] - 1s 5ms/step - loss: 12.5517 - root_mean_squared_error: 3.4629 - mean_absolute_error: 2.0742 - val_loss: 17.4868 - val_root_mean_squared_error: 4.1148 - val_mean_absolute_error: 3.4369\n",
      "1083/1083 [==============================] - 2s 1ms/step\n",
      "identity Scale\n",
      "MSE: 12.776887893676758\n",
      "RMSE: 3.574477195739746\n",
      "Pearson Correlation: 0.5881908265069317\n",
      "Other: {}\n",
      "\n",
      "\n",
      "\n",
      "Raw Scale\n",
      "MSE: 12.776887893676758\n",
      "RMSE: 3.574477195739746\n",
      "Pearson Correlation: 0.5881908265069317\n",
      "Other: {}\n",
      "\n",
      "\n",
      "\n",
      "\n",
      "### TESTING ###\n",
      "(8659, 248) (8659,)\n",
      "271/271 [==============================] - 0s 1ms/step\n",
      "identity Scale\n",
      "\n",
      "MSE: 12.191680908203125\n",
      "RMSE: 3.4916586875915527\n",
      "Pearson Correlation: 0.5969078263768762\n",
      "Other: {}\n",
      "\n",
      "\n",
      "\n",
      "Raw Scale\n",
      "MSE: 12.191680908203125\n",
      "RMSE: 3.4916586875915527\n",
      "Pearson Correlation: 0.5969078263768762\n",
      "Other: {}\n",
      "\n",
      "\n",
      "\n",
      "\n",
      "\n",
      "real\t0m53.928s\n",
      "user\t1m9.078s\n",
      "sys\t0m16.174s\n"
     ]
    }
   ],
   "source": [
    "# code that I wrote for the PDFF imputation project using a baseline_mlp model\n",
    "!cd /home/craut/wkspce/craut_lfs/MRI_PDFF_imputation/fit_models/ && time python evaluate_model.py -dd ../cut_data_again/real_data/ -od output2 -m baseline_mlp -tr -te -i simple"
   ]
  }
 ],
 "metadata": {
  "kernelspec": {
   "display_name": "Python 3 (ipykernel)",
   "language": "python",
   "name": "python3"
  },
  "language_info": {
   "codemirror_mode": {
    "name": "ipython",
    "version": 3
   },
   "file_extension": ".py",
   "mimetype": "text/x-python",
   "name": "python",
   "nbconvert_exporter": "python",
   "pygments_lexer": "ipython3",
   "version": "3.10.9"
  }
 },
 "nbformat": 4,
 "nbformat_minor": 5
}
