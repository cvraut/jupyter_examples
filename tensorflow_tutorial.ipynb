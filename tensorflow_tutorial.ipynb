{
 "cells": [
  {
   "cell_type": "markdown",
   "id": "08de4a2b-c2c3-4f6a-a917-f9e26c31f16c",
   "metadata": {},
   "source": [
    "# TensorFlow Tutorial"
   ]
  },
  {
   "cell_type": "code",
   "execution_count": 1,
   "id": "6b3e9653-1834-4727-a4c7-ee69e6ae7daf",
   "metadata": {
    "execution": {
     "iopub.execute_input": "2023-09-09T02:18:15.687819Z",
     "iopub.status.busy": "2023-09-09T02:18:15.687499Z",
     "iopub.status.idle": "2023-09-09T02:18:16.028710Z",
     "shell.execute_reply": "2023-09-09T02:18:16.028161Z",
     "shell.execute_reply.started": "2023-09-09T02:18:15.687799Z"
    }
   },
   "outputs": [
    {
     "name": "stdout",
     "output_type": "stream",
     "text": [
      "/app/apps/rhel8/jupyter/2023-04/lib/python3.10/site-packages/nvidia/cudnn\n",
      "/app/apps/rhel8/jupyter/2023-04/lib/python3.10/site-packages/nvidia/cudnn/lib:/app/apps/rhel8/jupyter/2023-04/lib/python3.10/site-packages/tensorrt_libs:/app/apps/rhel8/python-anaconda3/2023-04/lib:/app/apps/rhel8/jupyter/2023-04/lib/python3.10/site-packages/nvidia/cudnn/lib:/home/craut/miniconda3/lib:/usr/local/cuda/lib64::\n",
      "/app/apps/rhel8/jupyter/2023-04/bin:/bin:/usr/local/sbin:/usr/local/bin:/usr/sbin:/usr/bin:/opt/jupyterhub/bin:/common/bin:/usr/local/cuda/bin:/usr/localsys/bin:/usr/share/Modules/bin\n"
     ]
    }
   ],
   "source": [
    "## note we need to make sure these environment variables are set properly for tensorflow to properly make use of the GPU\n",
    "# should be: /app/apps/rhel8/jupyter/2023-04/lib/python3.10/site-packages/nvidia/cudnn\n",
    "!echo $CUDNN_PATH\n",
    "# should be: /app/apps/rhel8/python-anaconda3/2023-04/lib:/app/apps/rhel8/jupyter/2023-04/lib/python3.10/site-packages/nvidia/cudnn/lib:/home/craut/miniconda3/lib:/usr/local/cuda/lib64::\n",
    "!echo $LD_LIBRARY_PATH\n",
    "# must include: /app/apps/rhel8/jupyter/2023-04/bin:/bin:/usr/local/sbin:/usr/local/bin:/usr/sbin:/usr/bin:/opt/jupyterhub/bin:/common/bin:/usr/local/cuda/bin:/usr/localsys/bin:/usr/share/Modules/bin\n",
    "!echo $PATH\n",
    "\n",
    "# test to see if changed thing in config fixes git push"
   ]
  },
  {
   "cell_type": "code",
   "execution_count": 2,
   "id": "4db821e3-a86f-4906-99da-97f8fcad7de4",
   "metadata": {
    "execution": {
     "iopub.execute_input": "2023-09-09T02:18:16.030161Z",
     "iopub.status.busy": "2023-09-09T02:18:16.029901Z",
     "iopub.status.idle": "2023-09-09T02:18:21.590372Z",
     "shell.execute_reply": "2023-09-09T02:18:21.589779Z",
     "shell.execute_reply.started": "2023-09-09T02:18:16.030143Z"
    }
   },
   "outputs": [
    {
     "name": "stderr",
     "output_type": "stream",
     "text": [
      "2023-09-08 22:18:16.407406: I tensorflow/core/util/port.cc:110] oneDNN custom operations are on. You may see slightly different numerical results due to floating-point round-off errors from different computation orders. To turn them off, set the environment variable `TF_ENABLE_ONEDNN_OPTS=0`.\n",
      "2023-09-08 22:18:16.464143: I tensorflow/core/platform/cpu_feature_guard.cc:182] This TensorFlow binary is optimized to use available CPU instructions in performance-critical operations.\n",
      "To enable the following instructions: AVX2 AVX512F AVX512_VNNI FMA, in other operations, rebuild TensorFlow with the appropriate compiler flags.\n"
     ]
    }
   ],
   "source": [
    "import tensorflow as tf"
   ]
  },
  {
   "cell_type": "code",
   "execution_count": 3,
   "id": "ba470b5e-0d5d-4a9c-b537-8811bc3cb2c2",
   "metadata": {
    "execution": {
     "iopub.execute_input": "2023-09-09T02:18:21.591581Z",
     "iopub.status.busy": "2023-09-09T02:18:21.591156Z",
     "iopub.status.idle": "2023-09-09T02:18:21.594549Z",
     "shell.execute_reply": "2023-09-09T02:18:21.594072Z",
     "shell.execute_reply.started": "2023-09-09T02:18:21.591553Z"
    }
   },
   "outputs": [
    {
     "name": "stdout",
     "output_type": "stream",
     "text": [
      "TensorFlow version: 2.13.0\n"
     ]
    }
   ],
   "source": [
    "print(\"TensorFlow version:\", tf.__version__)"
   ]
  },
  {
   "cell_type": "code",
   "execution_count": 4,
   "id": "a3206fbc-304d-4c9e-b18e-b3731881a1ec",
   "metadata": {
    "execution": {
     "iopub.execute_input": "2023-09-09T02:18:21.595541Z",
     "iopub.status.busy": "2023-09-09T02:18:21.595186Z",
     "iopub.status.idle": "2023-09-09T02:18:21.722621Z",
     "shell.execute_reply": "2023-09-09T02:18:21.721718Z",
     "shell.execute_reply.started": "2023-09-09T02:18:21.595523Z"
    }
   },
   "outputs": [],
   "source": [
    "from tensorflow import keras\n",
    "from tensorflow.keras import layers, models, datasets\n",
    "import time\n",
    "from tensorflow.python.client import device_lib"
   ]
  },
  {
   "cell_type": "code",
   "execution_count": 5,
   "id": "63ef9f86-69a0-422e-8af9-d5cf9988d680",
   "metadata": {
    "execution": {
     "iopub.execute_input": "2023-09-09T02:18:21.724082Z",
     "iopub.status.busy": "2023-09-09T02:18:21.723839Z",
     "iopub.status.idle": "2023-09-09T02:18:22.512592Z",
     "shell.execute_reply": "2023-09-09T02:18:22.512080Z",
     "shell.execute_reply.started": "2023-09-09T02:18:21.724065Z"
    }
   },
   "outputs": [
    {
     "name": "stderr",
     "output_type": "stream",
     "text": [
      "2023-09-08 22:18:22.506471: I tensorflow/core/common_runtime/gpu/gpu_device.cc:1639] Created device /device:GPU:0 with 14665 MB memory:  -> device: 0, name: Tesla P6, pci bus id: 0000:18:00.0, compute capability: 6.1\n"
     ]
    },
    {
     "data": {
      "text/plain": [
       "['/device:CPU:0', '/device:GPU:0']"
      ]
     },
     "execution_count": 5,
     "metadata": {},
     "output_type": "execute_result"
    }
   ],
   "source": [
    "def get_available_devices():\n",
    "    local_device_protos = device_lib.list_local_devices()\n",
    "    return [x.name for x in local_device_protos if x.device_type == 'GPU' or x.device_type == 'CPU']\n",
    "get_available_devices()"
   ]
  },
  {
   "cell_type": "code",
   "execution_count": 6,
   "id": "93fbef3c-bb07-4f69-8d3e-dea9d8384951",
   "metadata": {
    "execution": {
     "iopub.execute_input": "2023-09-09T02:18:22.513699Z",
     "iopub.status.busy": "2023-09-09T02:18:22.513307Z",
     "iopub.status.idle": "2023-09-09T02:19:21.678696Z",
     "shell.execute_reply": "2023-09-09T02:19:21.678018Z",
     "shell.execute_reply.started": "2023-09-09T02:18:22.513679Z"
    }
   },
   "outputs": [
    {
     "name": "stderr",
     "output_type": "stream",
     "text": [
      "2023-09-08 22:18:23.677434: I tensorflow/core/common_runtime/gpu/gpu_device.cc:1639] Created device /job:localhost/replica:0/task:0/device:GPU:0 with 14665 MB memory:  -> device: 0, name: Tesla P6, pci bus id: 0000:18:00.0, compute capability: 6.1\n"
     ]
    },
    {
     "name": "stdout",
     "output_type": "stream",
     "text": [
      "Epoch 1/10\n"
     ]
    },
    {
     "name": "stderr",
     "output_type": "stream",
     "text": [
      "2023-09-08 22:18:26.155984: I tensorflow/compiler/xla/stream_executor/cuda/cuda_dnn.cc:432] Loaded cuDNN version 8600\n",
      "2023-09-08 22:18:26.412652: I tensorflow/compiler/xla/service/service.cc:168] XLA service 0x8561170 initialized for platform CUDA (this does not guarantee that XLA will be used). Devices:\n",
      "2023-09-08 22:18:26.412689: I tensorflow/compiler/xla/service/service.cc:176]   StreamExecutor device (0): Tesla P6, Compute Capability 6.1\n",
      "2023-09-08 22:18:26.418536: I tensorflow/compiler/mlir/tensorflow/utils/dump_mlir_util.cc:255] disabling MLIR crash reproducer, set env var `MLIR_CRASH_REPRODUCER_DIRECTORY` to enable.\n",
      "2023-09-08 22:18:26.572793: I ./tensorflow/compiler/jit/device_compiler.h:186] Compiled cluster using XLA!  This line is logged at most once for the lifetime of the process.\n"
     ]
    },
    {
     "name": "stdout",
     "output_type": "stream",
     "text": [
      "1563/1563 [==============================] - 9s 4ms/step - loss: 1.5363 - accuracy: 0.4369 - val_loss: 1.3033 - val_accuracy: 0.5177\n",
      "Epoch 2/10\n",
      "1563/1563 [==============================] - 5s 3ms/step - loss: 1.1698 - accuracy: 0.5838 - val_loss: 1.1464 - val_accuracy: 0.5942\n",
      "Epoch 3/10\n",
      "1563/1563 [==============================] - 5s 3ms/step - loss: 1.0231 - accuracy: 0.6379 - val_loss: 1.0016 - val_accuracy: 0.6493\n",
      "Epoch 4/10\n",
      "1563/1563 [==============================] - 5s 3ms/step - loss: 0.9290 - accuracy: 0.6727 - val_loss: 0.9946 - val_accuracy: 0.6527\n",
      "Epoch 5/10\n",
      "1563/1563 [==============================] - 5s 3ms/step - loss: 0.8542 - accuracy: 0.7018 - val_loss: 0.9672 - val_accuracy: 0.6660\n",
      "Epoch 6/10\n",
      "1563/1563 [==============================] - 5s 3ms/step - loss: 0.7938 - accuracy: 0.7210 - val_loss: 0.8932 - val_accuracy: 0.6935\n",
      "Epoch 7/10\n",
      "1563/1563 [==============================] - 5s 3ms/step - loss: 0.7416 - accuracy: 0.7424 - val_loss: 0.9247 - val_accuracy: 0.6876\n",
      "Epoch 8/10\n",
      "1563/1563 [==============================] - 6s 4ms/step - loss: 0.6962 - accuracy: 0.7563 - val_loss: 0.9101 - val_accuracy: 0.6935\n",
      "Epoch 9/10\n",
      "1563/1563 [==============================] - 5s 3ms/step - loss: 0.6510 - accuracy: 0.7713 - val_loss: 0.8716 - val_accuracy: 0.7094\n",
      "Epoch 10/10\n",
      "1563/1563 [==============================] - 5s 3ms/step - loss: 0.6132 - accuracy: 0.7859 - val_loss: 0.8778 - val_accuracy: 0.7098\n",
      "Time to fit model on GPU: 56.94 seconds\n",
      "Evaluate on test data\n",
      "313/313 [==============================] - 1s 2ms/step - loss: 0.8778 - accuracy: 0.7098\n",
      "test loss, test acc: [0.8777643442153931, 0.7098000049591064]\n"
     ]
    }
   ],
   "source": [
    "# Download and prepare the CIFAR10 dataset\n",
    "(train_images, train_labels), (test_images, test_labels) = datasets.cifar10.load_data()\n",
    "# Normalize pixel values to be between 0 and 1\n",
    "train_images, test_images = train_images / 255.0, test_images / 255.0\n",
    "\n",
    "# Create the convolutional base\n",
    "model = models.Sequential()\n",
    "model.add(layers.Conv2D(32, (3, 3), activation='relu', input_shape=(32, 32, 3)))\n",
    "model.add(layers.MaxPooling2D((2, 2)))\n",
    "model.add(layers.Conv2D(64, (3, 3), activation='relu'))\n",
    "model.add(layers.MaxPooling2D((2, 2)))\n",
    "model.add(layers.Conv2D(64, (3, 3), activation='relu'))\n",
    "\n",
    "# Add Dense layers on top\n",
    "model.add(layers.Flatten())\n",
    "model.add(layers.Dense(64, activation='relu'))\n",
    "model.add(layers.Dense(64, activation='relu'))\n",
    "model.add(layers.Dense(64, activation='relu'))\n",
    "model.add(layers.Dense(10))\n",
    "\n",
    "# Compile and train the model\n",
    "model.compile(optimizer='adam',\n",
    "              loss=tf.keras.losses.SparseCategoricalCrossentropy(from_logits=True),\n",
    "              metrics=['accuracy'])\n",
    "# Fit the model on GPU\n",
    "start_time = time.time()\n",
    "history = model.fit(train_images, train_labels, epochs=10,\n",
    "                    validation_data=(test_images, test_labels))\n",
    "end_time = time.time()\n",
    "print(\"Time to fit model on GPU: {:.2f} seconds\".format(end_time - start_time))\n",
    "\n",
    "# Evaluate the model on the test data using `evaluate`\n",
    "print(\"Evaluate on test data\")\n",
    "results = model.evaluate(test_images, test_labels)\n",
    "print(\"test loss, test acc:\", results)"
   ]
  },
  {
   "cell_type": "code",
   "execution_count": 7,
   "id": "a17f4b7d-d13c-4171-bdb4-37b0e481bad7",
   "metadata": {
    "execution": {
     "iopub.execute_input": "2023-09-09T02:19:21.679937Z",
     "iopub.status.busy": "2023-09-09T02:19:21.679663Z",
     "iopub.status.idle": "2023-09-09T02:20:12.096787Z",
     "shell.execute_reply": "2023-09-09T02:20:12.096123Z",
     "shell.execute_reply.started": "2023-09-09T02:19:21.679915Z"
    }
   },
   "outputs": [
    {
     "name": "stdout",
     "output_type": "stream",
     "text": [
      "Num GPUs Available:  1\n",
      "### TRAINING ###\n",
      "(34634, 248) (34634,)\n",
      "Fitting Model on All Data\n",
      "Epoch 1/100\n",
      "217/217 [==============================] - 4s 5ms/step - loss: 25.4278 - root_mean_squared_error: 4.7828 - mean_absolute_error: 3.0579 - val_loss: 73.4489 - val_root_mean_squared_error: 8.4324 - val_mean_absolute_error: 8.0803\n",
      "Epoch 2/100\n",
      "217/217 [==============================] - 1s 4ms/step - loss: 18.3091 - root_mean_squared_error: 4.0099 - mean_absolute_error: 2.4615 - val_loss: 179.7931 - val_root_mean_squared_error: 13.3292 - val_mean_absolute_error: 12.9707\n",
      "Epoch 3/100\n",
      "217/217 [==============================] - 1s 4ms/step - loss: 16.8599 - root_mean_squared_error: 3.8519 - mean_absolute_error: 2.3693 - val_loss: 26.6243 - val_root_mean_squared_error: 4.9700 - val_mean_absolute_error: 3.1098\n",
      "Epoch 4/100\n",
      "217/217 [==============================] - 1s 4ms/step - loss: 16.1082 - root_mean_squared_error: 3.7782 - mean_absolute_error: 2.3175 - val_loss: 15.7429 - val_root_mean_squared_error: 3.7413 - val_mean_absolute_error: 2.7649\n",
      "Epoch 5/100\n",
      "217/217 [==============================] - 1s 4ms/step - loss: 15.6319 - root_mean_squared_error: 3.7374 - mean_absolute_error: 2.2748 - val_loss: 39.6719 - val_root_mean_squared_error: 6.1718 - val_mean_absolute_error: 5.7233\n",
      "Epoch 6/100\n",
      "217/217 [==============================] - 1s 4ms/step - loss: 15.0536 - root_mean_squared_error: 3.6807 - mean_absolute_error: 2.2198 - val_loss: 28.1924 - val_root_mean_squared_error: 5.1733 - val_mean_absolute_error: 3.2188\n",
      "Epoch 7/100\n",
      "217/217 [==============================] - 1s 4ms/step - loss: 14.8318 - root_mean_squared_error: 3.6698 - mean_absolute_error: 2.2087 - val_loss: 21.1463 - val_root_mean_squared_error: 4.4548 - val_mean_absolute_error: 2.2988\n",
      "Epoch 8/100\n",
      "217/217 [==============================] - 1s 4ms/step - loss: 14.4994 - root_mean_squared_error: 3.6409 - mean_absolute_error: 2.1905 - val_loss: 24.9391 - val_root_mean_squared_error: 4.8734 - val_mean_absolute_error: 3.0066\n",
      "Epoch 9/100\n",
      "217/217 [==============================] - 1s 4ms/step - loss: 14.3342 - root_mean_squared_error: 3.6325 - mean_absolute_error: 2.1689 - val_loss: 15.4533 - val_root_mean_squared_error: 3.7896 - val_mean_absolute_error: 2.0298\n",
      "Epoch 10/100\n",
      "217/217 [==============================] - 1s 4ms/step - loss: 14.0332 - root_mean_squared_error: 3.6031 - mean_absolute_error: 2.1605 - val_loss: 569.4183 - val_root_mean_squared_error: 23.8413 - val_mean_absolute_error: 23.5553\n",
      "Epoch 11/100\n",
      "217/217 [==============================] - 1s 4ms/step - loss: 13.9405 - root_mean_squared_error: 3.6008 - mean_absolute_error: 2.1509 - val_loss: 163.7733 - val_root_mean_squared_error: 12.7607 - val_mean_absolute_error: 12.3521\n",
      "Epoch 12/100\n",
      "217/217 [==============================] - 1s 4ms/step - loss: 13.6793 - root_mean_squared_error: 3.5737 - mean_absolute_error: 2.1337 - val_loss: 20.6343 - val_root_mean_squared_error: 4.4452 - val_mean_absolute_error: 2.2447\n",
      "Epoch 13/100\n",
      "217/217 [==============================] - 1s 4ms/step - loss: 13.5517 - root_mean_squared_error: 3.5644 - mean_absolute_error: 2.1298 - val_loss: 27.6469 - val_root_mean_squared_error: 5.1797 - val_mean_absolute_error: 3.2295\n",
      "Epoch 14/100\n",
      "217/217 [==============================] - 1s 4ms/step - loss: 13.3513 - root_mean_squared_error: 3.5435 - mean_absolute_error: 2.1114 - val_loss: 15.9759 - val_root_mean_squared_error: 3.8992 - val_mean_absolute_error: 3.1356\n",
      "Epoch 15/100\n",
      "217/217 [==============================] - 1s 4ms/step - loss: 13.3695 - root_mean_squared_error: 3.5524 - mean_absolute_error: 2.1119 - val_loss: 55.4638 - val_root_mean_squared_error: 7.3983 - val_mean_absolute_error: 6.1860\n",
      "Epoch 16/100\n",
      "217/217 [==============================] - 1s 4ms/step - loss: 13.2471 - root_mean_squared_error: 3.5403 - mean_absolute_error: 2.1078 - val_loss: 798.8961 - val_root_mean_squared_error: 28.2525 - val_mean_absolute_error: 28.0152\n",
      "Epoch 17/100\n",
      "217/217 [==============================] - 1s 4ms/step - loss: 13.0133 - root_mean_squared_error: 3.5118 - mean_absolute_error: 2.0852 - val_loss: 18.6575 - val_root_mean_squared_error: 4.2410 - val_mean_absolute_error: 2.1846\n",
      "Epoch 18/100\n",
      "217/217 [==============================] - 1s 4ms/step - loss: 13.0332 - root_mean_squared_error: 3.5173 - mean_absolute_error: 2.0961 - val_loss: 22.2786 - val_root_mean_squared_error: 4.6506 - val_mean_absolute_error: 2.5180\n",
      "Epoch 19/100\n",
      "217/217 [==============================] - 1s 4ms/step - loss: 12.9579 - root_mean_squared_error: 3.5098 - mean_absolute_error: 2.0864 - val_loss: 16.1843 - val_root_mean_squared_error: 3.9438 - val_mean_absolute_error: 2.0959\n",
      "Epoch 20/100\n",
      "217/217 [==============================] - 1s 4ms/step - loss: 13.0126 - root_mean_squared_error: 3.5199 - mean_absolute_error: 2.1038 - val_loss: 17.2708 - val_root_mean_squared_error: 4.0810 - val_mean_absolute_error: 2.0578\n",
      "Epoch 21/100\n",
      "217/217 [==============================] - 1s 4ms/step - loss: 12.7979 - root_mean_squared_error: 3.4911 - mean_absolute_error: 2.0736 - val_loss: 73.9074 - val_root_mean_squared_error: 8.5617 - val_mean_absolute_error: 7.5469\n",
      "Epoch 22/100\n",
      "217/217 [==============================] - 1s 4ms/step - loss: 12.8088 - root_mean_squared_error: 3.4942 - mean_absolute_error: 2.0803 - val_loss: 180.2222 - val_root_mean_squared_error: 13.4026 - val_mean_absolute_error: 12.9810\n",
      "Epoch 23/100\n",
      "217/217 [==============================] - 1s 4ms/step - loss: 12.6907 - root_mean_squared_error: 3.4789 - mean_absolute_error: 2.0733 - val_loss: 120.8285 - val_root_mean_squared_error: 10.9656 - val_mean_absolute_error: 10.2315\n",
      "Epoch 24/100\n",
      "217/217 [==============================] - 1s 4ms/step - loss: 12.7477 - root_mean_squared_error: 3.4881 - mean_absolute_error: 2.0874 - val_loss: 15.2967 - val_root_mean_squared_error: 3.8362 - val_mean_absolute_error: 2.6347\n",
      "Epoch 25/100\n",
      "217/217 [==============================] - 1s 4ms/step - loss: 12.6034 - root_mean_squared_error: 3.4680 - mean_absolute_error: 2.0732 - val_loss: 15.2017 - val_root_mean_squared_error: 3.8246 - val_mean_absolute_error: 2.1248\n",
      "Epoch 26/100\n",
      "217/217 [==============================] - 1s 4ms/step - loss: 12.6164 - root_mean_squared_error: 3.4710 - mean_absolute_error: 2.0720 - val_loss: 18.9555 - val_root_mean_squared_error: 4.2883 - val_mean_absolute_error: 3.6331\n",
      "Epoch 27/100\n",
      "217/217 [==============================] - 1s 4ms/step - loss: 12.6779 - root_mean_squared_error: 3.4801 - mean_absolute_error: 2.0801 - val_loss: 18.6956 - val_root_mean_squared_error: 4.2578 - val_mean_absolute_error: 2.1705\n",
      "Epoch 28/100\n",
      "217/217 [==============================] - 1s 4ms/step - loss: 12.5994 - root_mean_squared_error: 3.4693 - mean_absolute_error: 2.0627 - val_loss: 39.6242 - val_root_mean_squared_error: 6.2502 - val_mean_absolute_error: 4.8494\n",
      "Epoch 29/100\n",
      "217/217 [==============================] - 1s 4ms/step - loss: 12.6316 - root_mean_squared_error: 3.4743 - mean_absolute_error: 2.0718 - val_loss: 28.2810 - val_root_mean_squared_error: 5.2652 - val_mean_absolute_error: 3.5882\n",
      "Epoch 30/100\n",
      "217/217 [==============================] - 1s 4ms/step - loss: 12.5273 - root_mean_squared_error: 3.4599 - mean_absolute_error: 2.0625 - val_loss: 31.5998 - val_root_mean_squared_error: 5.5718 - val_mean_absolute_error: 3.9653\n",
      "Epoch 31/100\n",
      "217/217 [==============================] - 2s 8ms/step - loss: 12.4734 - root_mean_squared_error: 3.4523 - mean_absolute_error: 2.0647 - val_loss: 18.5566 - val_root_mean_squared_error: 4.2429 - val_mean_absolute_error: 3.6269\n",
      "Epoch 32/100\n",
      "217/217 [==============================] - 1s 5ms/step - loss: 12.5559 - root_mean_squared_error: 3.4647 - mean_absolute_error: 2.0684 - val_loss: 49.6811 - val_root_mean_squared_error: 7.0092 - val_mean_absolute_error: 5.8048\n",
      "Epoch 33/100\n",
      "217/217 [==============================] - 1s 4ms/step - loss: 12.5710 - root_mean_squared_error: 3.4669 - mean_absolute_error: 2.0783 - val_loss: 1200.2294 - val_root_mean_squared_error: 34.6363 - val_mean_absolute_error: 34.4073\n",
      "Epoch 34/100\n",
      "217/217 [==============================] - 1s 4ms/step - loss: 12.5275 - root_mean_squared_error: 3.4607 - mean_absolute_error: 2.0659 - val_loss: 18.4946 - val_root_mean_squared_error: 4.2360 - val_mean_absolute_error: 2.2847\n",
      "Epoch 35/100\n",
      "217/217 [==============================] - 1s 4ms/step - loss: 12.4999 - root_mean_squared_error: 3.4562 - mean_absolute_error: 2.0636 - val_loss: 41.0594 - val_root_mean_squared_error: 6.3644 - val_mean_absolute_error: 4.9884\n",
      "Epoch 36/100\n",
      "217/217 [==============================] - 1s 4ms/step - loss: 12.4464 - root_mean_squared_error: 3.4486 - mean_absolute_error: 2.0693 - val_loss: 32.7697 - val_root_mean_squared_error: 5.6759 - val_mean_absolute_error: 4.0998\n",
      "Epoch 37/100\n",
      "217/217 [==============================] - 1s 4ms/step - loss: 12.4212 - root_mean_squared_error: 3.4451 - mean_absolute_error: 2.0613 - val_loss: 134.7663 - val_root_mean_squared_error: 11.5851 - val_mean_absolute_error: 10.9180\n",
      "Epoch 38/100\n",
      "217/217 [==============================] - 1s 4ms/step - loss: 12.4220 - root_mean_squared_error: 3.4450 - mean_absolute_error: 2.0676 - val_loss: 59.9041 - val_root_mean_squared_error: 7.7037 - val_mean_absolute_error: 7.0988\n",
      "Epoch 39/100\n",
      "217/217 [==============================] - 1s 4ms/step - loss: 12.4935 - root_mean_squared_error: 3.4545 - mean_absolute_error: 2.0790 - val_loss: 81.7320 - val_root_mean_squared_error: 9.0096 - val_mean_absolute_error: 8.1417\n",
      "Epoch 40/100\n",
      "217/217 [==============================] - 1s 4ms/step - loss: 12.5656 - root_mean_squared_error: 3.4654 - mean_absolute_error: 2.0662 - val_loss: 32.5238 - val_root_mean_squared_error: 5.6539 - val_mean_absolute_error: 4.1284\n",
      "1083/1083 [==============================] - 1s 902us/step\n",
      "identity Scale\n",
      "MSE: 14.744392395019531\n",
      "RMSE: 3.8398427963256836\n",
      "Pearson Correlation: 0.562275908422999\n",
      "Other: {}\n",
      "\n",
      "\n",
      "\n",
      "Raw Scale\n",
      "MSE: 14.744392395019531\n",
      "RMSE: 3.8398427963256836\n",
      "Pearson Correlation: 0.562275908422999\n",
      "Other: {}\n",
      "\n",
      "\n",
      "\n",
      "\n",
      "### TESTING ###\n",
      "(8659, 248) (8659,)\n",
      "271/271 [==============================] - 0s 898us/step\n",
      "identity Scale\n",
      "\n",
      "MSE: 14.140161514282227\n",
      "RMSE: 3.760340690612793\n",
      "Pearson Correlation: 0.572509894957651\n",
      "Other: {}\n",
      "\n",
      "\n",
      "\n",
      "Raw Scale\n",
      "MSE: 14.140161514282227\n",
      "RMSE: 3.760340690612793\n",
      "Pearson Correlation: 0.572509894957651\n",
      "Other: {}\n",
      "\n",
      "\n",
      "\n",
      "\n",
      "\n",
      "real\t0m50.274s\n",
      "user\t1m1.332s\n",
      "sys\t0m13.919s\n"
     ]
    }
   ],
   "source": [
    "# code that I wrote for the PDFF imputation project using a baseline_mlp model\n",
    "!cd /home/craut/wkspce/craut_lfs/MRI_PDFF_imputation/fit_models/ && time python evaluate_model.py -dd ../cut_data_again/real_data/ -od output2 -m baseline_mlp -tr -te -i simple"
   ]
  }
 ],
 "metadata": {
  "kernelspec": {
   "display_name": "Python 3 (ipykernel)",
   "language": "python",
   "name": "python3"
  },
  "language_info": {
   "codemirror_mode": {
    "name": "ipython",
    "version": 3
   },
   "file_extension": ".py",
   "mimetype": "text/x-python",
   "name": "python",
   "nbconvert_exporter": "python",
   "pygments_lexer": "ipython3",
   "version": "3.10.9"
  }
 },
 "nbformat": 4,
 "nbformat_minor": 5
}
