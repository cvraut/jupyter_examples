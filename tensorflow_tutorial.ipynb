{
 "cells": [
  {
   "cell_type": "markdown",
   "id": "08de4a2b-c2c3-4f6a-a917-f9e26c31f16c",
   "metadata": {},
   "source": [
    "# TensorFlow Tutorial"
   ]
  },
  {
   "cell_type": "code",
   "execution_count": 1,
   "id": "6b3e9653-1834-4727-a4c7-ee69e6ae7daf",
   "metadata": {
    "execution": {
     "iopub.execute_input": "2023-09-09T02:50:13.027541Z",
     "iopub.status.busy": "2023-09-09T02:50:13.027369Z",
     "iopub.status.idle": "2023-09-09T02:50:13.368203Z",
     "shell.execute_reply": "2023-09-09T02:50:13.367710Z",
     "shell.execute_reply.started": "2023-09-09T02:50:13.027523Z"
    }
   },
   "outputs": [
    {
     "name": "stdout",
     "output_type": "stream",
     "text": [
      "/app/apps/rhel8/jupyter/2023-04/lib/python3.10/site-packages/nvidia/cudnn\n",
      "/usr/local/cuda/lib64:/app/apps/rhel8/jupyter/2023-04/lib/python3.10/site-packages/nvidia/cudnn/lib:/app/apps/rhel8/jupyter/2023-04/lib/python3.10/site-packages/tensorrt_libs::\n",
      "/app/apps/rhel8/jupyter/2023-04/bin:/usr/local/sbin:/usr/local/bin:/usr/sbin:/usr/bin:/opt/jupyterhub/bin:/common/bin:/usr/local/cuda/bin:/usr/localsys/bin:/usr/share/Modules/bin:/bin\n"
     ]
    }
   ],
   "source": [
    "## note we need to make sure these environment variables are set properly for tensorflow to properly make use of the GPU\n",
    "# should be: /app/apps/rhel8/jupyter/2023-04/lib/python3.10/site-packages/nvidia/cudnn\n",
    "!echo $CUDNN_PATH\n",
    "# should be: /usr/local/cuda/lib64:/app/apps/rhel8/jupyter/2023-04/lib/python3.10/site-packages/nvidia/cudnn/lib:/app/apps/rhel8/jupyter/2023-04/lib/python3.10/site-packages/tensorrt_libs::\n",
    "!echo $LD_LIBRARY_PATH\n",
    "# must include: /app/apps/rhel8/jupyter/2023-04/bin:/bin:/usr/local/sbin:/usr/local/bin:/usr/sbin:/usr/bin:/opt/jupyterhub/bin:/common/bin:/usr/local/cuda/bin:/usr/localsys/bin:/usr/share/Modules/bin\n",
    "!echo $PATH\n",
    "\n",
    "# test to see if changed thing in config fixes git push"
   ]
  },
  {
   "cell_type": "code",
   "execution_count": 2,
   "id": "4db821e3-a86f-4906-99da-97f8fcad7de4",
   "metadata": {
    "execution": {
     "iopub.execute_input": "2023-09-09T02:50:13.369713Z",
     "iopub.status.busy": "2023-09-09T02:50:13.369467Z",
     "iopub.status.idle": "2023-09-09T02:50:17.946010Z",
     "shell.execute_reply": "2023-09-09T02:50:17.945406Z",
     "shell.execute_reply.started": "2023-09-09T02:50:13.369694Z"
    }
   },
   "outputs": [
    {
     "name": "stderr",
     "output_type": "stream",
     "text": [
      "2023-09-08 22:50:13.715067: I tensorflow/core/util/port.cc:110] oneDNN custom operations are on. You may see slightly different numerical results due to floating-point round-off errors from different computation orders. To turn them off, set the environment variable `TF_ENABLE_ONEDNN_OPTS=0`.\n",
      "2023-09-08 22:50:13.773161: I tensorflow/core/platform/cpu_feature_guard.cc:182] This TensorFlow binary is optimized to use available CPU instructions in performance-critical operations.\n",
      "To enable the following instructions: AVX2 AVX512F AVX512_VNNI FMA, in other operations, rebuild TensorFlow with the appropriate compiler flags.\n"
     ]
    }
   ],
   "source": [
    "import tensorflow as tf"
   ]
  },
  {
   "cell_type": "code",
   "execution_count": 8,
   "id": "d602fb6f-0353-4864-8691-9f6a1873bbac",
   "metadata": {
    "execution": {
     "iopub.execute_input": "2023-09-09T04:14:09.545066Z",
     "iopub.status.busy": "2023-09-09T04:14:09.544716Z",
     "iopub.status.idle": "2023-09-09T04:14:09.549908Z",
     "shell.execute_reply": "2023-09-09T04:14:09.549428Z",
     "shell.execute_reply.started": "2023-09-09T04:14:09.545043Z"
    }
   },
   "outputs": [
    {
     "data": {
      "text/plain": [
       "{'/app/apps/rhel8/python-anaconda3/2023-04/lib', '/home/craut/miniconda3/lib'}"
      ]
     },
     "execution_count": 8,
     "metadata": {},
     "output_type": "execute_result"
    }
   ],
   "source": [
    "v1=set(\"/app/apps/rhel8/jupyter/2023-04/lib/python3.10/site-packages/nvidia/cudnn/lib:/app/apps/rhel8/jupyter/2023-04/lib/python3.10/site-packages/tensorrt_libs:/app/apps/rhel8/python-anaconda3/2023-04/lib:/app/apps/rhel8/jupyter/2023-04/lib/python3.10/site-packages/nvidia/cudnn/lib:/home/craut/miniconda3/lib:/usr/local/cuda/lib64::\".split(\":\"))\n",
    "v2=set(\"/usr/local/cuda/lib64:/usr/local/cuda/lib64:/app/apps/rhel8/jupyter/2023-04/lib/python3.10/site-packages/nvidia/cudnn/lib:/app/apps/rhel8/jupyter/2023-04/lib/python3.10/site-packages/tensorrt_libs::\".split(\":\"))\n",
    "v1-v2"
   ]
  },
  {
   "cell_type": "code",
   "execution_count": null,
   "id": "3bb141e0-49de-4067-9f36-a33318b16f81",
   "metadata": {},
   "outputs": [],
   "source": [
    "# proposed test\n",
    "LD_LIBRARY_PATH=/usr/local/cuda/lib64:/usr/local/cuda/lib64:/app/apps/rhel8/jupyter/2023-04/lib/python3.10/site-packages/nvidia/cudnn/lib:/app/apps/rhel8/jupyter/2023-04/lib/python3.10/site-packages/tensorrt_libs:/app/apps/rhel8/python-anaconda3/2023-04/lib::"
   ]
  },
  {
   "cell_type": "code",
   "execution_count": 3,
   "id": "ba470b5e-0d5d-4a9c-b537-8811bc3cb2c2",
   "metadata": {
    "execution": {
     "iopub.execute_input": "2023-09-09T02:50:17.947227Z",
     "iopub.status.busy": "2023-09-09T02:50:17.946813Z",
     "iopub.status.idle": "2023-09-09T02:50:17.950332Z",
     "shell.execute_reply": "2023-09-09T02:50:17.949836Z",
     "shell.execute_reply.started": "2023-09-09T02:50:17.947206Z"
    }
   },
   "outputs": [
    {
     "name": "stdout",
     "output_type": "stream",
     "text": [
      "TensorFlow version: 2.13.0\n"
     ]
    }
   ],
   "source": [
    "print(\"TensorFlow version:\", tf.__version__)"
   ]
  },
  {
   "cell_type": "code",
   "execution_count": 4,
   "id": "a3206fbc-304d-4c9e-b18e-b3731881a1ec",
   "metadata": {
    "execution": {
     "iopub.execute_input": "2023-09-09T02:50:17.951357Z",
     "iopub.status.busy": "2023-09-09T02:50:17.950990Z",
     "iopub.status.idle": "2023-09-09T02:50:18.063741Z",
     "shell.execute_reply": "2023-09-09T02:50:18.063240Z",
     "shell.execute_reply.started": "2023-09-09T02:50:17.951339Z"
    }
   },
   "outputs": [],
   "source": [
    "from tensorflow import keras\n",
    "from tensorflow.keras import layers, models, datasets\n",
    "import time\n",
    "from tensorflow.python.client import device_lib"
   ]
  },
  {
   "cell_type": "code",
   "execution_count": 5,
   "id": "63ef9f86-69a0-422e-8af9-d5cf9988d680",
   "metadata": {
    "execution": {
     "iopub.execute_input": "2023-09-09T02:50:18.064655Z",
     "iopub.status.busy": "2023-09-09T02:50:18.064402Z",
     "iopub.status.idle": "2023-09-09T02:50:18.823280Z",
     "shell.execute_reply": "2023-09-09T02:50:18.822767Z",
     "shell.execute_reply.started": "2023-09-09T02:50:18.064637Z"
    }
   },
   "outputs": [
    {
     "name": "stderr",
     "output_type": "stream",
     "text": [
      "2023-09-08 22:50:18.755170: W tensorflow/core/common_runtime/gpu/gpu_device.cc:1960] Cannot dlopen some GPU libraries. Please make sure the missing libraries mentioned above are installed properly if you would like to use GPU. Follow the guide at https://www.tensorflow.org/install/gpu for how to download and setup the required libraries for your platform.\n",
      "Skipping registering GPU devices...\n"
     ]
    },
    {
     "data": {
      "text/plain": [
       "['/device:CPU:0']"
      ]
     },
     "execution_count": 5,
     "metadata": {},
     "output_type": "execute_result"
    }
   ],
   "source": [
    "def get_available_devices():\n",
    "    local_device_protos = device_lib.list_local_devices()\n",
    "    return [x.name for x in local_device_protos if x.device_type == 'GPU' or x.device_type == 'CPU']\n",
    "get_available_devices()"
   ]
  },
  {
   "cell_type": "code",
   "execution_count": 6,
   "id": "93fbef3c-bb07-4f69-8d3e-dea9d8384951",
   "metadata": {
    "execution": {
     "iopub.execute_input": "2023-09-09T02:50:18.824367Z",
     "iopub.status.busy": "2023-09-09T02:50:18.823999Z",
     "iopub.status.idle": "2023-09-09T02:51:38.782711Z",
     "shell.execute_reply": "2023-09-09T02:51:38.782004Z",
     "shell.execute_reply.started": "2023-09-09T02:50:18.824348Z"
    }
   },
   "outputs": [
    {
     "name": "stderr",
     "output_type": "stream",
     "text": [
      "2023-09-08 22:50:19.985368: W tensorflow/core/common_runtime/gpu/gpu_device.cc:1960] Cannot dlopen some GPU libraries. Please make sure the missing libraries mentioned above are installed properly if you would like to use GPU. Follow the guide at https://www.tensorflow.org/install/gpu for how to download and setup the required libraries for your platform.\n",
      "Skipping registering GPU devices...\n"
     ]
    },
    {
     "name": "stdout",
     "output_type": "stream",
     "text": [
      "Epoch 1/10\n",
      "1563/1563 [==============================] - 10s 5ms/step - loss: 1.5927 - accuracy: 0.4097 - val_loss: 1.2883 - val_accuracy: 0.5299\n",
      "Epoch 2/10\n",
      "1563/1563 [==============================] - 7s 5ms/step - loss: 1.2276 - accuracy: 0.5580 - val_loss: 1.1462 - val_accuracy: 0.5887\n",
      "Epoch 3/10\n",
      "1563/1563 [==============================] - 7s 5ms/step - loss: 1.0681 - accuracy: 0.6219 - val_loss: 1.0581 - val_accuracy: 0.6283\n",
      "Epoch 4/10\n",
      "1563/1563 [==============================] - 7s 5ms/step - loss: 0.9616 - accuracy: 0.6624 - val_loss: 1.0032 - val_accuracy: 0.6569\n",
      "Epoch 5/10\n",
      "1563/1563 [==============================] - 9s 5ms/step - loss: 0.8759 - accuracy: 0.6921 - val_loss: 0.9154 - val_accuracy: 0.6831\n",
      "Epoch 6/10\n",
      "1563/1563 [==============================] - 7s 5ms/step - loss: 0.8084 - accuracy: 0.7168 - val_loss: 0.9028 - val_accuracy: 0.6882\n",
      "Epoch 7/10\n",
      "1563/1563 [==============================] - 7s 5ms/step - loss: 0.7605 - accuracy: 0.7342 - val_loss: 0.8793 - val_accuracy: 0.6964\n",
      "Epoch 8/10\n",
      "1563/1563 [==============================] - 7s 5ms/step - loss: 0.7143 - accuracy: 0.7490 - val_loss: 0.9448 - val_accuracy: 0.6903\n",
      "Epoch 9/10\n",
      "1563/1563 [==============================] - 7s 5ms/step - loss: 0.6742 - accuracy: 0.7642 - val_loss: 0.9402 - val_accuracy: 0.6935\n",
      "Epoch 10/10\n",
      "1563/1563 [==============================] - 7s 5ms/step - loss: 0.6385 - accuracy: 0.7763 - val_loss: 0.8944 - val_accuracy: 0.7058\n",
      "Time to fit model on GPU: 77.71 seconds\n",
      "Evaluate on test data\n",
      "313/313 [==============================] - 1s 2ms/step - loss: 0.8944 - accuracy: 0.7058\n",
      "test loss, test acc: [0.8944236040115356, 0.7057999968528748]\n"
     ]
    }
   ],
   "source": [
    "# Download and prepare the CIFAR10 dataset\n",
    "(train_images, train_labels), (test_images, test_labels) = datasets.cifar10.load_data()\n",
    "# Normalize pixel values to be between 0 and 1\n",
    "train_images, test_images = train_images / 255.0, test_images / 255.0\n",
    "\n",
    "# Create the convolutional base\n",
    "model = models.Sequential()\n",
    "model.add(layers.Conv2D(32, (3, 3), activation='relu', input_shape=(32, 32, 3)))\n",
    "model.add(layers.MaxPooling2D((2, 2)))\n",
    "model.add(layers.Conv2D(64, (3, 3), activation='relu'))\n",
    "model.add(layers.MaxPooling2D((2, 2)))\n",
    "model.add(layers.Conv2D(64, (3, 3), activation='relu'))\n",
    "\n",
    "# Add Dense layers on top\n",
    "model.add(layers.Flatten())\n",
    "model.add(layers.Dense(64, activation='relu'))\n",
    "model.add(layers.Dense(64, activation='relu'))\n",
    "model.add(layers.Dense(64, activation='relu'))\n",
    "model.add(layers.Dense(10))\n",
    "\n",
    "# Compile and train the model\n",
    "model.compile(optimizer='adam',\n",
    "              loss=tf.keras.losses.SparseCategoricalCrossentropy(from_logits=True),\n",
    "              metrics=['accuracy'])\n",
    "# Fit the model on GPU\n",
    "start_time = time.time()\n",
    "history = model.fit(train_images, train_labels, epochs=10,\n",
    "                    validation_data=(test_images, test_labels))\n",
    "end_time = time.time()\n",
    "print(\"Time to fit model on GPU: {:.2f} seconds\".format(end_time - start_time))\n",
    "\n",
    "# Evaluate the model on the test data using `evaluate`\n",
    "print(\"Evaluate on test data\")\n",
    "results = model.evaluate(test_images, test_labels)\n",
    "print(\"test loss, test acc:\", results)"
   ]
  },
  {
   "cell_type": "code",
   "execution_count": 7,
   "id": "a17f4b7d-d13c-4171-bdb4-37b0e481bad7",
   "metadata": {
    "execution": {
     "iopub.execute_input": "2023-09-09T02:51:38.784773Z",
     "iopub.status.busy": "2023-09-09T02:51:38.784503Z",
     "iopub.status.idle": "2023-09-09T02:52:02.240245Z",
     "shell.execute_reply": "2023-09-09T02:52:02.239489Z",
     "shell.execute_reply.started": "2023-09-09T02:51:38.784754Z"
    }
   },
   "outputs": [
    {
     "name": "stdout",
     "output_type": "stream",
     "text": [
      "Num GPUs Available:  0\n",
      "### TRAINING ###\n",
      "(34634, 248) (34634,)\n",
      "Fitting Model on All Data\n",
      "Epoch 1/100\n",
      "217/217 [==============================] - 2s 4ms/step - loss: 25.3892 - root_mean_squared_error: 4.7777 - mean_absolute_error: 3.0563 - val_loss: 15.6401 - val_root_mean_squared_error: 3.6439 - val_mean_absolute_error: 2.2754\n",
      "Epoch 2/100\n",
      "217/217 [==============================] - 1s 3ms/step - loss: 18.4416 - root_mean_squared_error: 4.0246 - mean_absolute_error: 2.4646 - val_loss: 17.9230 - val_root_mean_squared_error: 3.9735 - val_mean_absolute_error: 2.3135\n",
      "Epoch 3/100\n",
      "217/217 [==============================] - 1s 3ms/step - loss: 16.9820 - root_mean_squared_error: 3.8656 - mean_absolute_error: 2.3692 - val_loss: 16.5215 - val_root_mean_squared_error: 3.8177 - val_mean_absolute_error: 2.9222\n",
      "Epoch 4/100\n",
      "217/217 [==============================] - 1s 3ms/step - loss: 16.1200 - root_mean_squared_error: 3.7772 - mean_absolute_error: 2.3055 - val_loss: 27.2791 - val_root_mean_squared_error: 5.0513 - val_mean_absolute_error: 2.9359\n",
      "Epoch 5/100\n",
      "217/217 [==============================] - 1s 3ms/step - loss: 15.6237 - root_mean_squared_error: 3.7339 - mean_absolute_error: 2.2584 - val_loss: 21.9443 - val_root_mean_squared_error: 4.5103 - val_mean_absolute_error: 2.3450\n",
      "Epoch 6/100\n",
      "217/217 [==============================] - 1s 3ms/step - loss: 15.1887 - root_mean_squared_error: 3.6960 - mean_absolute_error: 2.2354 - val_loss: 28.0116 - val_root_mean_squared_error: 5.1531 - val_mean_absolute_error: 3.0945\n",
      "Epoch 7/100\n",
      "217/217 [==============================] - 1s 3ms/step - loss: 14.8063 - root_mean_squared_error: 3.6626 - mean_absolute_error: 2.2046 - val_loss: 52.6129 - val_root_mean_squared_error: 7.1613 - val_mean_absolute_error: 6.6842\n",
      "Epoch 8/100\n",
      "217/217 [==============================] - 1s 3ms/step - loss: 14.5433 - root_mean_squared_error: 3.6426 - mean_absolute_error: 2.1865 - val_loss: 26.2112 - val_root_mean_squared_error: 4.9989 - val_mean_absolute_error: 2.9608\n",
      "Epoch 9/100\n",
      "217/217 [==============================] - 1s 3ms/step - loss: 14.3387 - root_mean_squared_error: 3.6283 - mean_absolute_error: 2.1659 - val_loss: 33.3566 - val_root_mean_squared_error: 5.6774 - val_mean_absolute_error: 5.2211\n",
      "Epoch 10/100\n",
      "217/217 [==============================] - 1s 3ms/step - loss: 14.0912 - root_mean_squared_error: 3.6070 - mean_absolute_error: 2.1617 - val_loss: 39.2706 - val_root_mean_squared_error: 6.1832 - val_mean_absolute_error: 4.6323\n",
      "Epoch 11/100\n",
      "217/217 [==============================] - 1s 3ms/step - loss: 13.8101 - root_mean_squared_error: 3.5791 - mean_absolute_error: 2.1393 - val_loss: 32.6577 - val_root_mean_squared_error: 5.6296 - val_mean_absolute_error: 3.8876\n",
      "Epoch 12/100\n",
      "217/217 [==============================] - 1s 3ms/step - loss: 13.7321 - root_mean_squared_error: 3.5772 - mean_absolute_error: 2.1273 - val_loss: 60.1725 - val_root_mean_squared_error: 7.6984 - val_mean_absolute_error: 6.5526\n",
      "Epoch 13/100\n",
      "217/217 [==============================] - 1s 3ms/step - loss: 13.5970 - root_mean_squared_error: 3.5663 - mean_absolute_error: 2.1185 - val_loss: 19.7847 - val_root_mean_squared_error: 4.3514 - val_mean_absolute_error: 2.2820\n",
      "Epoch 14/100\n",
      "217/217 [==============================] - 1s 2ms/step - loss: 13.4864 - root_mean_squared_error: 3.5577 - mean_absolute_error: 2.1189 - val_loss: 94.2588 - val_root_mean_squared_error: 9.6671 - val_mean_absolute_error: 9.1794\n",
      "Epoch 15/100\n",
      "217/217 [==============================] - 1s 2ms/step - loss: 13.2050 - root_mean_squared_error: 3.5242 - mean_absolute_error: 2.1020 - val_loss: 35.6284 - val_root_mean_squared_error: 5.9043 - val_mean_absolute_error: 4.3298\n",
      "Epoch 16/100\n",
      "217/217 [==============================] - 1s 2ms/step - loss: 13.1955 - root_mean_squared_error: 3.5278 - mean_absolute_error: 2.0983 - val_loss: 31.5053 - val_root_mean_squared_error: 5.5473 - val_mean_absolute_error: 3.8398\n",
      "1083/1083 [==============================] - 1s 705us/step\n",
      "identity Scale\n",
      "MSE: 13.396238327026367\n",
      "RMSE: 3.6600871086120605\n",
      "Pearson Correlation: 0.5287957135525447\n",
      "Other: {}\n",
      "\n",
      "\n",
      "\n",
      "Raw Scale\n",
      "MSE: 13.396238327026367\n",
      "RMSE: 3.6600871086120605\n",
      "Pearson Correlation: 0.5287957135525447\n",
      "Other: {}\n",
      "\n",
      "\n",
      "\n",
      "\n",
      "### TESTING ###\n",
      "(8659, 248) (8659,)\n",
      "271/271 [==============================] - 0s 895us/step\n",
      "identity Scale\n",
      "\n",
      "MSE: 12.664899826049805\n",
      "RMSE: 3.5587778091430664\n",
      "Pearson Correlation: 0.5484684896202288\n",
      "Other: {}\n",
      "\n",
      "\n",
      "\n",
      "Raw Scale\n",
      "MSE: 12.664899826049805\n",
      "RMSE: 3.5587778091430664\n",
      "Pearson Correlation: 0.5484684896202288\n",
      "Other: {}\n",
      "\n",
      "\n",
      "\n",
      "\n",
      "\n",
      "real\t0m23.307s\n",
      "user\t0m27.011s\n",
      "sys\t0m7.493s\n"
     ]
    }
   ],
   "source": [
    "# code that I wrote for the PDFF imputation project using a baseline_mlp model\n",
    "!cd /home/craut/wkspce/craut_lfs/MRI_PDFF_imputation/fit_models/ && time python evaluate_model.py -dd ../cut_data_again/real_data/ -od output2 -m baseline_mlp -tr -te -i simple"
   ]
  }
 ],
 "metadata": {
  "kernelspec": {
   "display_name": "Python 3 (ipykernel)",
   "language": "python",
   "name": "python3"
  },
  "language_info": {
   "codemirror_mode": {
    "name": "ipython",
    "version": 3
   },
   "file_extension": ".py",
   "mimetype": "text/x-python",
   "name": "python",
   "nbconvert_exporter": "python",
   "pygments_lexer": "ipython3",
   "version": "3.10.9"
  }
 },
 "nbformat": 4,
 "nbformat_minor": 5
}
