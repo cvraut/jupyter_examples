{
 "cells": [
  {
   "cell_type": "markdown",
   "id": "08de4a2b-c2c3-4f6a-a917-f9e26c31f16c",
   "metadata": {},
   "source": [
    "# TensorFlow Tutorial"
   ]
  },
  {
   "cell_type": "code",
   "execution_count": 1,
   "id": "6b3e9653-1834-4727-a4c7-ee69e6ae7daf",
   "metadata": {
    "execution": {
     "iopub.execute_input": "2023-09-09T04:59:28.408848Z",
     "iopub.status.busy": "2023-09-09T04:59:28.408507Z",
     "iopub.status.idle": "2023-09-09T04:59:28.749814Z",
     "shell.execute_reply": "2023-09-09T04:59:28.749276Z",
     "shell.execute_reply.started": "2023-09-09T04:59:28.408829Z"
    }
   },
   "outputs": [
    {
     "name": "stdout",
     "output_type": "stream",
     "text": [
      "/app/apps/rhel8/jupyter/2023-04/lib/python3.10/site-packages/nvidia/cudnn\n",
      "/usr/local/cuda/lib64:/usr/local/cuda/lib64:/app/apps/rhel8/jupyter/2023-04/lib/python3.10/site-packages/nvidia/cudnn/lib:/app/apps/rhel8/jupyter/2023-04/lib/python3.10/site-packages/tensorrt_libs:/app/apps/rhel8/python-anaconda3/2023-04/lib::\n",
      "/app/apps/rhel8/jupyter/2023-04/bin:/usr/local/sbin:/usr/local/bin:/usr/sbin:/usr/bin:/opt/jupyterhub/bin:/common/bin:/usr/local/cuda/bin:/usr/localsys/bin:/usr/share/Modules/bin:/bin\n"
     ]
    }
   ],
   "source": [
    "## note we need to make sure these environment variables are set properly for tensorflow to properly make use of the GPU\n",
    "# should be: /app/apps/rhel8/jupyter/2023-04/lib/python3.10/site-packages/nvidia/cudnn\n",
    "!echo $CUDNN_PATH\n",
    "# should be: /usr/local/cuda/lib64:/usr/local/cuda/lib64:/app/apps/rhel8/jupyter/2023-04/lib/python3.10/site-packages/nvidia/cudnn/lib:/app/apps/rhel8/jupyter/2023-04/lib/python3.10/site-packages/tensorrt_libs:/app/apps/rhel8/python-anaconda3/2023-04/lib::\n",
    "!echo $LD_LIBRARY_PATH\n",
    "# must include: /app/apps/rhel8/jupyter/2023-04/bin:/bin:/usr/local/sbin:/usr/local/bin:/usr/sbin:/usr/bin:/opt/jupyterhub/bin:/common/bin:/usr/local/cuda/bin:/usr/localsys/bin:/usr/share/Modules/bin\n",
    "!echo $PATH"
   ]
  },
  {
   "cell_type": "code",
   "execution_count": 2,
   "id": "4db821e3-a86f-4906-99da-97f8fcad7de4",
   "metadata": {
    "execution": {
     "iopub.execute_input": "2023-09-09T04:59:28.751172Z",
     "iopub.status.busy": "2023-09-09T04:59:28.750922Z",
     "iopub.status.idle": "2023-09-09T04:59:32.382144Z",
     "shell.execute_reply": "2023-09-09T04:59:32.381535Z",
     "shell.execute_reply.started": "2023-09-09T04:59:28.751154Z"
    }
   },
   "outputs": [
    {
     "name": "stderr",
     "output_type": "stream",
     "text": [
      "2023-09-09 00:59:29.068762: I tensorflow/core/util/port.cc:110] oneDNN custom operations are on. You may see slightly different numerical results due to floating-point round-off errors from different computation orders. To turn them off, set the environment variable `TF_ENABLE_ONEDNN_OPTS=0`.\n",
      "2023-09-09 00:59:29.124732: I tensorflow/core/platform/cpu_feature_guard.cc:182] This TensorFlow binary is optimized to use available CPU instructions in performance-critical operations.\n",
      "To enable the following instructions: AVX2 AVX512F AVX512_VNNI FMA, in other operations, rebuild TensorFlow with the appropriate compiler flags.\n"
     ]
    }
   ],
   "source": [
    "import tensorflow as tf"
   ]
  },
  {
   "cell_type": "code",
   "execution_count": 3,
   "id": "ba470b5e-0d5d-4a9c-b537-8811bc3cb2c2",
   "metadata": {
    "execution": {
     "iopub.execute_input": "2023-09-09T04:59:32.383319Z",
     "iopub.status.busy": "2023-09-09T04:59:32.382915Z",
     "iopub.status.idle": "2023-09-09T04:59:32.386349Z",
     "shell.execute_reply": "2023-09-09T04:59:32.385871Z",
     "shell.execute_reply.started": "2023-09-09T04:59:32.383296Z"
    }
   },
   "outputs": [
    {
     "name": "stdout",
     "output_type": "stream",
     "text": [
      "TensorFlow version: 2.13.0\n"
     ]
    }
   ],
   "source": [
    "print(\"TensorFlow version:\", tf.__version__)"
   ]
  },
  {
   "cell_type": "code",
   "execution_count": 4,
   "id": "a3206fbc-304d-4c9e-b18e-b3731881a1ec",
   "metadata": {
    "execution": {
     "iopub.execute_input": "2023-09-09T04:59:32.387357Z",
     "iopub.status.busy": "2023-09-09T04:59:32.386988Z",
     "iopub.status.idle": "2023-09-09T04:59:32.750942Z",
     "shell.execute_reply": "2023-09-09T04:59:32.750377Z",
     "shell.execute_reply.started": "2023-09-09T04:59:32.387339Z"
    }
   },
   "outputs": [],
   "source": [
    "from tensorflow import keras\n",
    "from tensorflow.keras import layers, models, datasets\n",
    "import time\n",
    "from tensorflow.python.client import device_lib\n",
    "from numba import cuda "
   ]
  },
  {
   "cell_type": "code",
   "execution_count": 5,
   "id": "63ef9f86-69a0-422e-8af9-d5cf9988d680",
   "metadata": {
    "execution": {
     "iopub.execute_input": "2023-09-09T04:59:32.752594Z",
     "iopub.status.busy": "2023-09-09T04:59:32.752324Z",
     "iopub.status.idle": "2023-09-09T04:59:34.049349Z",
     "shell.execute_reply": "2023-09-09T04:59:34.048804Z",
     "shell.execute_reply.started": "2023-09-09T04:59:32.752568Z"
    }
   },
   "outputs": [
    {
     "name": "stderr",
     "output_type": "stream",
     "text": [
      "2023-09-09 00:59:34.042961: I tensorflow/core/common_runtime/gpu/gpu_device.cc:1639] Created device /device:GPU:0 with 14551 MB memory:  -> device: 0, name: Tesla P6, pci bus id: 0000:18:00.0, compute capability: 6.1\n"
     ]
    },
    {
     "data": {
      "text/plain": [
       "['/device:CPU:0', '/device:GPU:0']"
      ]
     },
     "execution_count": 5,
     "metadata": {},
     "output_type": "execute_result"
    }
   ],
   "source": [
    "def get_available_devices():\n",
    "    local_device_protos = device_lib.list_local_devices()\n",
    "    return [x.name for x in local_device_protos if x.device_type == 'GPU' or x.device_type == 'CPU']\n",
    "get_available_devices()"
   ]
  },
  {
   "cell_type": "code",
   "execution_count": 6,
   "id": "93fbef3c-bb07-4f69-8d3e-dea9d8384951",
   "metadata": {
    "execution": {
     "iopub.execute_input": "2023-09-09T04:59:34.050332Z",
     "iopub.status.busy": "2023-09-09T04:59:34.050078Z",
     "iopub.status.idle": "2023-09-09T05:00:35.404260Z",
     "shell.execute_reply": "2023-09-09T05:00:35.403556Z",
     "shell.execute_reply.started": "2023-09-09T04:59:34.050313Z"
    }
   },
   "outputs": [
    {
     "name": "stderr",
     "output_type": "stream",
     "text": [
      "2023-09-09 00:59:35.211901: I tensorflow/core/common_runtime/gpu/gpu_device.cc:1639] Created device /job:localhost/replica:0/task:0/device:GPU:0 with 14551 MB memory:  -> device: 0, name: Tesla P6, pci bus id: 0000:18:00.0, compute capability: 6.1\n"
     ]
    },
    {
     "name": "stdout",
     "output_type": "stream",
     "text": [
      "Epoch 1/10\n"
     ]
    },
    {
     "name": "stderr",
     "output_type": "stream",
     "text": [
      "2023-09-09 00:59:37.661436: I tensorflow/compiler/xla/stream_executor/cuda/cuda_dnn.cc:432] Loaded cuDNN version 8600\n",
      "2023-09-09 00:59:37.909555: I tensorflow/compiler/xla/service/service.cc:168] XLA service 0x7fe54750d5b0 initialized for platform CUDA (this does not guarantee that XLA will be used). Devices:\n",
      "2023-09-09 00:59:37.909594: I tensorflow/compiler/xla/service/service.cc:176]   StreamExecutor device (0): Tesla P6, Compute Capability 6.1\n",
      "2023-09-09 00:59:37.915060: I tensorflow/compiler/mlir/tensorflow/utils/dump_mlir_util.cc:255] disabling MLIR crash reproducer, set env var `MLIR_CRASH_REPRODUCER_DIRECTORY` to enable.\n",
      "2023-09-09 00:59:38.067031: I ./tensorflow/compiler/jit/device_compiler.h:186] Compiled cluster using XLA!  This line is logged at most once for the lifetime of the process.\n"
     ]
    },
    {
     "name": "stdout",
     "output_type": "stream",
     "text": [
      "1563/1563 [==============================] - 9s 4ms/step - loss: 1.5739 - accuracy: 0.4199 - val_loss: 1.2904 - val_accuracy: 0.5304\n",
      "Epoch 2/10\n",
      "1563/1563 [==============================] - 5s 3ms/step - loss: 1.2047 - accuracy: 0.5687 - val_loss: 1.1444 - val_accuracy: 0.5895\n",
      "Epoch 3/10\n",
      "1563/1563 [==============================] - 5s 3ms/step - loss: 1.0551 - accuracy: 0.6275 - val_loss: 1.0405 - val_accuracy: 0.6385\n",
      "Epoch 4/10\n",
      "1563/1563 [==============================] - 5s 3ms/step - loss: 0.9473 - accuracy: 0.6668 - val_loss: 1.0200 - val_accuracy: 0.6501\n",
      "Epoch 5/10\n",
      "1563/1563 [==============================] - 5s 3ms/step - loss: 0.8714 - accuracy: 0.6948 - val_loss: 1.0212 - val_accuracy: 0.6481\n",
      "Epoch 6/10\n",
      "1563/1563 [==============================] - 5s 3ms/step - loss: 0.8088 - accuracy: 0.7171 - val_loss: 0.9440 - val_accuracy: 0.6732\n",
      "Epoch 7/10\n",
      "1563/1563 [==============================] - 6s 4ms/step - loss: 0.7597 - accuracy: 0.7352 - val_loss: 0.8552 - val_accuracy: 0.7039\n",
      "Epoch 8/10\n",
      "1563/1563 [==============================] - 6s 4ms/step - loss: 0.7121 - accuracy: 0.7500 - val_loss: 0.8609 - val_accuracy: 0.7027\n",
      "Epoch 9/10\n",
      "1563/1563 [==============================] - 6s 4ms/step - loss: 0.6720 - accuracy: 0.7648 - val_loss: 0.8772 - val_accuracy: 0.7056\n",
      "Epoch 10/10\n",
      "1563/1563 [==============================] - 6s 4ms/step - loss: 0.6407 - accuracy: 0.7744 - val_loss: 0.8561 - val_accuracy: 0.7076\n",
      "Time to fit model on GPU: 59.05 seconds\n",
      "Evaluate on test data\n",
      "313/313 [==============================] - 1s 2ms/step - loss: 0.8561 - accuracy: 0.7076\n",
      "test loss, test acc: [0.8560856580734253, 0.7075999975204468]\n"
     ]
    }
   ],
   "source": [
    "# Download and prepare the CIFAR10 dataset\n",
    "(train_images, train_labels), (test_images, test_labels) = datasets.cifar10.load_data()\n",
    "# Normalize pixel values to be between 0 and 1\n",
    "train_images, test_images = train_images / 255.0, test_images / 255.0\n",
    "\n",
    "# Create the convolutional base\n",
    "model = models.Sequential()\n",
    "model.add(layers.Conv2D(32, (3, 3), activation='relu', input_shape=(32, 32, 3)))\n",
    "model.add(layers.MaxPooling2D((2, 2)))\n",
    "model.add(layers.Conv2D(64, (3, 3), activation='relu'))\n",
    "model.add(layers.MaxPooling2D((2, 2)))\n",
    "model.add(layers.Conv2D(64, (3, 3), activation='relu'))\n",
    "\n",
    "# Add Dense layers on top\n",
    "model.add(layers.Flatten())\n",
    "model.add(layers.Dense(64, activation='relu'))\n",
    "model.add(layers.Dense(64, activation='relu'))\n",
    "model.add(layers.Dense(64, activation='relu'))\n",
    "model.add(layers.Dense(10))\n",
    "\n",
    "# Compile and train the model\n",
    "model.compile(optimizer='adam',\n",
    "              loss=tf.keras.losses.SparseCategoricalCrossentropy(from_logits=True),\n",
    "              metrics=['accuracy'])\n",
    "# Fit the model on GPU\n",
    "start_time = time.time()\n",
    "history = model.fit(train_images, train_labels, epochs=10,\n",
    "                    validation_data=(test_images, test_labels))\n",
    "end_time = time.time()\n",
    "print(\"Time to fit model on GPU: {:.2f} seconds\".format(end_time - start_time))\n",
    "\n",
    "# Evaluate the model on the test data using `evaluate`\n",
    "print(\"Evaluate on test data\")\n",
    "results = model.evaluate(test_images, test_labels)\n",
    "print(\"test loss, test acc:\", results)"
   ]
  },
  {
   "cell_type": "code",
   "execution_count": 7,
   "id": "450eb757-ccfa-4b6c-b7bf-d5bcf339389f",
   "metadata": {
    "execution": {
     "iopub.execute_input": "2023-09-09T05:00:35.405531Z",
     "iopub.status.busy": "2023-09-09T05:00:35.405254Z",
     "iopub.status.idle": "2023-09-09T05:00:35.658684Z",
     "shell.execute_reply": "2023-09-09T05:00:35.658082Z",
     "shell.execute_reply.started": "2023-09-09T05:00:35.405510Z"
    }
   },
   "outputs": [],
   "source": [
    "# free up the GPU memory so other people/processes can use it\n",
    "device = cuda.get_current_device()\n",
    "device.reset()"
   ]
  },
  {
   "cell_type": "code",
   "execution_count": 8,
   "id": "a17f4b7d-d13c-4171-bdb4-37b0e481bad7",
   "metadata": {
    "execution": {
     "iopub.execute_input": "2023-09-09T05:00:35.659768Z",
     "iopub.status.busy": "2023-09-09T05:00:35.659489Z",
     "iopub.status.idle": "2023-09-09T05:01:17.037384Z",
     "shell.execute_reply": "2023-09-09T05:01:17.036705Z",
     "shell.execute_reply.started": "2023-09-09T05:00:35.659748Z"
    }
   },
   "outputs": [
    {
     "name": "stdout",
     "output_type": "stream",
     "text": [
      "Num GPUs Available:  1\n",
      "### TRAINING ###\n",
      "(34634, 248) (34634,)\n",
      "Fitting Model on All Data\n",
      "Epoch 1/100\n",
      "217/217 [==============================] - 4s 5ms/step - loss: 26.0695 - root_mean_squared_error: 4.8467 - mean_absolute_error: 3.1503 - val_loss: 430.4765 - val_root_mean_squared_error: 20.6907 - val_mean_absolute_error: 20.3818\n",
      "Epoch 2/100\n",
      "217/217 [==============================] - 1s 4ms/step - loss: 18.5623 - root_mean_squared_error: 4.0388 - mean_absolute_error: 2.4722 - val_loss: 42.5595 - val_root_mean_squared_error: 6.3574 - val_mean_absolute_error: 4.9741\n",
      "Epoch 3/100\n",
      "217/217 [==============================] - 1s 4ms/step - loss: 16.9152 - root_mean_squared_error: 3.8560 - mean_absolute_error: 2.3968 - val_loss: 16.8469 - val_root_mean_squared_error: 3.8599 - val_mean_absolute_error: 2.4229\n",
      "Epoch 4/100\n",
      "217/217 [==============================] - 1s 4ms/step - loss: 16.2387 - root_mean_squared_error: 3.7925 - mean_absolute_error: 2.3214 - val_loss: 18.5317 - val_root_mean_squared_error: 4.0947 - val_mean_absolute_error: 2.3826\n",
      "Epoch 5/100\n",
      "217/217 [==============================] - 1s 4ms/step - loss: 15.6467 - root_mean_squared_error: 3.7372 - mean_absolute_error: 2.2688 - val_loss: 33.2706 - val_root_mean_squared_error: 5.6276 - val_mean_absolute_error: 3.8341\n",
      "Epoch 6/100\n",
      "217/217 [==============================] - 1s 4ms/step - loss: 15.2618 - root_mean_squared_error: 3.7064 - mean_absolute_error: 2.2487 - val_loss: 32.4400 - val_root_mean_squared_error: 5.5666 - val_mean_absolute_error: 3.6979\n",
      "Epoch 7/100\n",
      "217/217 [==============================] - 1s 4ms/step - loss: 14.8342 - root_mean_squared_error: 3.6674 - mean_absolute_error: 2.2106 - val_loss: 53.4755 - val_root_mean_squared_error: 7.2220 - val_mean_absolute_error: 6.7738\n",
      "Epoch 8/100\n",
      "217/217 [==============================] - 1s 4ms/step - loss: 14.4521 - root_mean_squared_error: 3.6323 - mean_absolute_error: 2.1974 - val_loss: 33.5128 - val_root_mean_squared_error: 5.6844 - val_mean_absolute_error: 3.9609\n",
      "Epoch 9/100\n",
      "217/217 [==============================] - 1s 4ms/step - loss: 14.4248 - root_mean_squared_error: 3.6437 - mean_absolute_error: 2.1762 - val_loss: 96.9674 - val_root_mean_squared_error: 9.7912 - val_mean_absolute_error: 9.3255\n",
      "Epoch 10/100\n",
      "217/217 [==============================] - 1s 4ms/step - loss: 14.1122 - root_mean_squared_error: 3.6139 - mean_absolute_error: 2.1487 - val_loss: 31.9151 - val_root_mean_squared_error: 5.5593 - val_mean_absolute_error: 3.8184\n",
      "Epoch 11/100\n",
      "217/217 [==============================] - 1s 4ms/step - loss: 13.7579 - root_mean_squared_error: 3.5756 - mean_absolute_error: 2.1488 - val_loss: 28.0218 - val_root_mean_squared_error: 5.2042 - val_mean_absolute_error: 4.6651\n",
      "Epoch 12/100\n",
      "217/217 [==============================] - 1s 4ms/step - loss: 13.6578 - root_mean_squared_error: 3.5708 - mean_absolute_error: 2.1261 - val_loss: 32.1605 - val_root_mean_squared_error: 5.5934 - val_mean_absolute_error: 3.8676\n",
      "Epoch 13/100\n",
      "217/217 [==============================] - 1s 4ms/step - loss: 13.5282 - root_mean_squared_error: 3.5607 - mean_absolute_error: 2.1269 - val_loss: 27.5370 - val_root_mean_squared_error: 5.1686 - val_mean_absolute_error: 3.1505\n",
      "Epoch 14/100\n",
      "217/217 [==============================] - 1s 4ms/step - loss: 13.4733 - root_mean_squared_error: 3.5604 - mean_absolute_error: 2.1085 - val_loss: 13.0507 - val_root_mean_squared_error: 3.5041 - val_mean_absolute_error: 2.2393\n",
      "Epoch 15/100\n",
      "217/217 [==============================] - 1s 4ms/step - loss: 13.2758 - root_mean_squared_error: 3.5387 - mean_absolute_error: 2.1048 - val_loss: 15.5422 - val_root_mean_squared_error: 3.8481 - val_mean_absolute_error: 2.0391\n",
      "Epoch 16/100\n",
      "217/217 [==============================] - 1s 4ms/step - loss: 13.1757 - root_mean_squared_error: 3.5298 - mean_absolute_error: 2.0898 - val_loss: 19.0781 - val_root_mean_squared_error: 4.2874 - val_mean_absolute_error: 2.2225\n",
      "Epoch 17/100\n",
      "217/217 [==============================] - 1s 4ms/step - loss: 13.1634 - root_mean_squared_error: 3.5326 - mean_absolute_error: 2.0974 - val_loss: 19.4087 - val_root_mean_squared_error: 4.3293 - val_mean_absolute_error: 2.1856\n",
      "Epoch 18/100\n",
      "217/217 [==============================] - 1s 4ms/step - loss: 12.9599 - root_mean_squared_error: 3.5074 - mean_absolute_error: 2.0887 - val_loss: 26.1118 - val_root_mean_squared_error: 5.0462 - val_mean_absolute_error: 3.0499\n",
      "Epoch 19/100\n",
      "217/217 [==============================] - 1s 4ms/step - loss: 12.9191 - root_mean_squared_error: 3.5040 - mean_absolute_error: 2.0786 - val_loss: 31.3292 - val_root_mean_squared_error: 5.5406 - val_mean_absolute_error: 3.8035\n",
      "Epoch 20/100\n",
      "217/217 [==============================] - 1s 4ms/step - loss: 12.9609 - root_mean_squared_error: 3.5124 - mean_absolute_error: 2.0817 - val_loss: 81.6730 - val_root_mean_squared_error: 9.0031 - val_mean_absolute_error: 8.5695\n",
      "Epoch 21/100\n",
      "217/217 [==============================] - 1s 4ms/step - loss: 12.7593 - root_mean_squared_error: 3.4851 - mean_absolute_error: 2.0779 - val_loss: 400.4240 - val_root_mean_squared_error: 19.9954 - val_mean_absolute_error: 19.6471\n",
      "Epoch 22/100\n",
      "217/217 [==============================] - 1s 4ms/step - loss: 12.7866 - root_mean_squared_error: 3.4906 - mean_absolute_error: 2.0809 - val_loss: 19.2210 - val_root_mean_squared_error: 4.3156 - val_mean_absolute_error: 2.1670\n",
      "Epoch 23/100\n",
      "217/217 [==============================] - 1s 4ms/step - loss: 12.8300 - root_mean_squared_error: 3.4984 - mean_absolute_error: 2.0807 - val_loss: 58.1532 - val_root_mean_squared_error: 7.5873 - val_mean_absolute_error: 7.1575\n",
      "Epoch 24/100\n",
      "217/217 [==============================] - 1s 4ms/step - loss: 12.7941 - root_mean_squared_error: 3.4943 - mean_absolute_error: 2.0988 - val_loss: 13.2850 - val_root_mean_squared_error: 3.5651 - val_mean_absolute_error: 2.2500\n",
      "Epoch 25/100\n",
      "217/217 [==============================] - 1s 4ms/step - loss: 12.7289 - root_mean_squared_error: 3.4868 - mean_absolute_error: 2.0798 - val_loss: 21.8644 - val_root_mean_squared_error: 4.6151 - val_mean_absolute_error: 2.5588\n",
      "Epoch 26/100\n",
      "217/217 [==============================] - 1s 4ms/step - loss: 12.6064 - root_mean_squared_error: 3.4708 - mean_absolute_error: 2.0721 - val_loss: 82.3688 - val_root_mean_squared_error: 9.0449 - val_mean_absolute_error: 8.1477\n",
      "Epoch 27/100\n",
      "217/217 [==============================] - 1s 4ms/step - loss: 12.6060 - root_mean_squared_error: 3.4709 - mean_absolute_error: 2.0769 - val_loss: 78.5381 - val_root_mean_squared_error: 8.8306 - val_mean_absolute_error: 7.9191\n",
      "Epoch 28/100\n",
      "217/217 [==============================] - 1s 4ms/step - loss: 12.6535 - root_mean_squared_error: 3.4777 - mean_absolute_error: 2.0800 - val_loss: 14.1296 - val_root_mean_squared_error: 3.6839 - val_mean_absolute_error: 2.1335\n",
      "Epoch 29/100\n",
      "217/217 [==============================] - 1s 5ms/step - loss: 12.5644 - root_mean_squared_error: 3.4651 - mean_absolute_error: 2.0668 - val_loss: 78.4219 - val_root_mean_squared_error: 8.8242 - val_mean_absolute_error: 7.9236\n",
      "1083/1083 [==============================] - 1s 984us/step\n",
      "identity Scale\n",
      "MSE: 12.26245403289795\n",
      "RMSE: 3.5017786026000977\n",
      "Pearson Correlation: 0.5887546011782276\n",
      "Other: {}\n",
      "\n",
      "\n",
      "\n",
      "Raw Scale\n",
      "MSE: 12.26245403289795\n",
      "RMSE: 3.5017786026000977\n",
      "Pearson Correlation: 0.5887546011782276\n",
      "Other: {}\n",
      "\n",
      "\n",
      "\n",
      "\n",
      "### TESTING ###\n",
      "(8659, 248) (8659,)\n",
      "271/271 [==============================] - 0s 1ms/step\n",
      "identity Scale\n",
      "\n",
      "MSE: 11.687312126159668\n",
      "RMSE: 3.418671131134033\n",
      "Pearson Correlation: 0.5978270514617351\n",
      "Other: {}\n",
      "\n",
      "\n",
      "\n",
      "Raw Scale\n",
      "MSE: 11.687312126159668\n",
      "RMSE: 3.418671131134033\n",
      "Pearson Correlation: 0.5978270514617351\n",
      "Other: {}\n",
      "\n",
      "\n",
      "\n",
      "\n",
      "\n",
      "real\t0m41.216s\n",
      "user\t0m50.355s\n",
      "sys\t0m13.918s\n"
     ]
    }
   ],
   "source": [
    "# code that I wrote for the PDFF imputation project using a baseline_mlp model\n",
    "!cd /home/craut/wkspce/craut_lfs/MRI_PDFF_imputation/fit_models/ && time python evaluate_model.py -dd ../cut_data_again/real_data/ -od output2 -m baseline_mlp -tr -te -i simple"
   ]
  }
 ],
 "metadata": {
  "kernelspec": {
   "display_name": "Python 3 (ipykernel)",
   "language": "python",
   "name": "python3"
  },
  "language_info": {
   "codemirror_mode": {
    "name": "ipython",
    "version": 3
   },
   "file_extension": ".py",
   "mimetype": "text/x-python",
   "name": "python",
   "nbconvert_exporter": "python",
   "pygments_lexer": "ipython3",
   "version": "3.10.9"
  }
 },
 "nbformat": 4,
 "nbformat_minor": 5
}
