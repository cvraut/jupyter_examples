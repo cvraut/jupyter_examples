{
 "cells": [
  {
   "cell_type": "markdown",
   "id": "5cad57be-352d-4e22-b4e0-86789495b68e",
   "metadata": {},
   "source": [
    "# Test download Software Requests"
   ]
  },
  {
   "cell_type": "code",
   "execution_count": 1,
   "id": "ba1ac987-099c-4688-9627-ddf0e09f04b5",
   "metadata": {
    "execution": {
     "iopub.execute_input": "2023-09-09T02:29:23.045215Z",
     "iopub.status.busy": "2023-09-09T02:29:23.044926Z",
     "iopub.status.idle": "2023-09-09T02:29:33.584819Z",
     "shell.execute_reply": "2023-09-09T02:29:33.584171Z",
     "shell.execute_reply.started": "2023-09-09T02:29:23.045196Z"
    }
   },
   "outputs": [
    {
     "name": "stderr",
     "output_type": "stream",
     "text": [
      "2023-09-08 22:29:30.305236: I tensorflow/core/util/port.cc:110] oneDNN custom operations are on. You may see slightly different numerical results due to floating-point round-off errors from different computation orders. To turn them off, set the environment variable `TF_ENABLE_ONEDNN_OPTS=0`.\n",
      "2023-09-08 22:29:30.360453: I tensorflow/core/platform/cpu_feature_guard.cc:182] This TensorFlow binary is optimized to use available CPU instructions in performance-critical operations.\n",
      "To enable the following instructions: AVX2 AVX512F AVX512_VNNI FMA, in other operations, rebuild TensorFlow with the appropriate compiler flags.\n"
     ]
    }
   ],
   "source": [
    "# 2023-09-08\n",
    "import genetic_algorithm\n",
    "import skopt\n",
    "import bayes_optim\n",
    "import boruta\n",
    "import BorutaShap\n",
    "import lightgbm\n",
    "import tensorflow as tf"
   ]
  }
 ],
 "metadata": {
  "kernelspec": {
   "display_name": "Python 3 (ipykernel)",
   "language": "python",
   "name": "python3"
  },
  "language_info": {
   "codemirror_mode": {
    "name": "ipython",
    "version": 3
   },
   "file_extension": ".py",
   "mimetype": "text/x-python",
   "name": "python",
   "nbconvert_exporter": "python",
   "pygments_lexer": "ipython3",
   "version": "3.10.9"
  }
 },
 "nbformat": 4,
 "nbformat_minor": 5
}
