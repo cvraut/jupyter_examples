{
 "cells": [
  {
   "cell_type": "markdown",
   "id": "5d2e71f5-fa76-4c3c-877e-7d771062762c",
   "metadata": {},
   "source": [
    "# Grabbing human readable information on the colummns from the UKBB"
   ]
  },
  {
   "cell_type": "markdown",
   "id": "08feade5-43de-42c7-b413-89a71febfe0b",
   "metadata": {},
   "source": [
    "Note these only include select fields from Oct 2022 release. If there are missing fields, one must extract them from the full csv"
   ]
  },
  {
   "cell_type": "code",
   "execution_count": 1,
   "id": "ef8d89a7-86c5-4584-8a16-933d36cc4b4b",
   "metadata": {
    "execution": {
     "iopub.execute_input": "2023-08-10T17:09:58.205329Z",
     "iopub.status.busy": "2023-08-10T17:09:58.204921Z",
     "iopub.status.idle": "2023-08-10T17:09:58.211305Z",
     "shell.execute_reply": "2023-08-10T17:09:58.210797Z",
     "shell.execute_reply.started": "2023-08-10T17:09:58.205301Z"
    }
   },
   "outputs": [],
   "source": [
    "from pickle import load"
   ]
  },
  {
   "cell_type": "code",
   "execution_count": 10,
   "id": "19d56d07-be62-406c-b702-428f5cfe9c26",
   "metadata": {
    "execution": {
     "iopub.execute_input": "2023-08-10T18:04:25.726881Z",
     "iopub.status.busy": "2023-08-10T18:04:25.726470Z",
     "iopub.status.idle": "2023-08-10T18:04:25.751591Z",
     "shell.execute_reply": "2023-08-10T18:04:25.751029Z",
     "shell.execute_reply.started": "2023-08-10T18:04:25.726856Z"
    }
   },
   "outputs": [
    {
     "name": "stdout",
     "output_type": "stream",
     "text": [
      "4962\n"
     ]
    }
   ],
   "source": [
    "var_names = {}\n",
    "with open(\"/home/craut/wkspce/craut_lfs/MRI_PDFF_imputation/study_data/var_names_cols.pkl\",\"rb\") as f:\n",
    "    var_names = load(f)\n",
    "print(len(var_names))"
   ]
  },
  {
   "cell_type": "code",
   "execution_count": 11,
   "id": "361fa61a-f405-4586-bf73-036a091e11a8",
   "metadata": {
    "execution": {
     "iopub.execute_input": "2023-08-10T18:04:28.965027Z",
     "iopub.status.busy": "2023-08-10T18:04:28.964522Z",
     "iopub.status.idle": "2023-08-10T18:04:28.970575Z",
     "shell.execute_reply": "2023-08-10T18:04:28.969991Z",
     "shell.execute_reply.started": "2023-08-10T18:04:28.964997Z"
    }
   },
   "outputs": [
    {
     "data": {
      "text/plain": [
       "{'num_inst': 4,\n",
       " 'indices': [3, 4, 5, 6],\n",
       " '0': {'name': '21-0', 'num_arr': 1, 'arr_idx': [3], '0': 3},\n",
       " '1': {'name': '21-1', 'num_arr': 1, 'arr_idx': [4], '0': 4},\n",
       " '2': {'name': '21-2', 'num_arr': 1, 'arr_idx': [5], '0': 5},\n",
       " '3': {'name': '21-3', 'num_arr': 1, 'arr_idx': [6], '0': 6},\n",
       " 'name': 'Weight method',\n",
       " 'categories': ['Assessment Centre',\n",
       "  'Physical measures',\n",
       "  'Anthropometry',\n",
       "  'Body size measures']}"
      ]
     },
     "execution_count": 11,
     "metadata": {},
     "output_type": "execute_result"
    }
   ],
   "source": [
    "var_names[\"21\"]"
   ]
  },
  {
   "cell_type": "markdown",
   "id": "fc1c1409-c030-4278-8c4c-c01b7e4b7184",
   "metadata": {},
   "source": [
    "The corresponding link to the ukbb for this field: [https://biobank.ndph.ox.ac.uk/ukb/field.cgi?id=21](https://biobank.ndph.ox.ac.uk/ukb/field.cgi?id=21)\n",
    "\n",
    "Data came from webscraping the UKBB data fields resource in Oct 2022.\n",
    "\n",
    "`name` and `categories` are derived from the \"Description\" and \"Categories\" from each webpage. Other fields can be ignored due to possible information deprectiation from more recent UKBB updates."
   ]
  }
 ],
 "metadata": {
  "kernelspec": {
   "display_name": "Python 3 (ipykernel)",
   "language": "python",
   "name": "python3"
  },
  "language_info": {
   "codemirror_mode": {
    "name": "ipython",
    "version": 3
   },
   "file_extension": ".py",
   "mimetype": "text/x-python",
   "name": "python",
   "nbconvert_exporter": "python",
   "pygments_lexer": "ipython3",
   "version": "3.10.9"
  }
 },
 "nbformat": 4,
 "nbformat_minor": 5
}
