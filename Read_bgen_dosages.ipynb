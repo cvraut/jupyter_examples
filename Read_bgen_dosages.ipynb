{
 "cells": [
  {
   "cell_type": "markdown",
   "id": "2a7b2b0a-8999-4be2-925c-fd31fbe52e29",
   "metadata": {},
   "source": [
    "# Read bgen dosages"
   ]
  },
  {
   "cell_type": "markdown",
   "id": "166cdb20-a239-49d8-b7d4-acf83d8d0f8e",
   "metadata": {},
   "source": [
    "This notebook offers a tutorial for how to read bgen files in python."
   ]
  },
  {
   "cell_type": "code",
   "execution_count": 4,
   "id": "75c82924-42f3-4c41-9e1c-c88ea6126dfe",
   "metadata": {
    "execution": {
     "iopub.execute_input": "2023-07-24T14:28:31.142347Z",
     "iopub.status.busy": "2023-07-24T14:28:31.141922Z",
     "iopub.status.idle": "2023-07-24T14:28:31.223664Z",
     "shell.execute_reply": "2023-07-24T14:28:31.223137Z",
     "shell.execute_reply.started": "2023-07-24T14:28:31.142322Z"
    }
   },
   "outputs": [],
   "source": [
    "from bgen.reader import BgenFile\n",
    "import numpy as np"
   ]
  },
  {
   "cell_type": "code",
   "execution_count": 9,
   "id": "d415e40d-8265-440f-9fa6-f550137ad7b8",
   "metadata": {
    "execution": {
     "iopub.execute_input": "2023-07-24T14:41:54.003278Z",
     "iopub.status.busy": "2023-07-24T14:41:54.002845Z",
     "iopub.status.idle": "2023-07-24T14:42:02.388809Z",
     "shell.execute_reply": "2023-07-24T14:42:02.388065Z",
     "shell.execute_reply.started": "2023-07-24T14:41:54.003252Z"
    }
   },
   "outputs": [
    {
     "name": "stdout",
     "output_type": "stream",
     "text": [
      "10000\n"
     ]
    }
   ],
   "source": [
    "bfile = BgenFile(\"/mnt/speliotes-lab/Projects/MGI/HPI8258/GENODATA/BGEN/MGI_F5_UNFILTERED_chr22_no_phase_8bits.bgen\")\n",
    "rsids = bfile.rsids()\n",
    "dosages = []\n",
    "for i,variant in enumerate(rsids):\n",
    "    if i>=10000:\n",
    "        break\n",
    "    var = bfile[i]\n",
    "    dosage = var.alt_dosage\n",
    "    dosages.append(dosage)\n",
    "print(len(dosages))"
   ]
  },
  {
   "cell_type": "code",
   "execution_count": 11,
   "id": "dff956e6-2d44-46e9-9213-191fb7a64fc5",
   "metadata": {
    "execution": {
     "iopub.execute_input": "2023-07-24T15:47:56.847631Z",
     "iopub.status.busy": "2023-07-24T15:47:56.847253Z",
     "iopub.status.idle": "2023-07-24T15:47:56.852237Z",
     "shell.execute_reply": "2023-07-24T15:47:56.851697Z",
     "shell.execute_reply.started": "2023-07-24T15:47:56.847609Z"
    }
   },
   "outputs": [
    {
     "data": {
      "text/plain": [
       "array([[1., 0., 0.],\n",
       "       [1., 0., 0.],\n",
       "       [1., 0., 0.],\n",
       "       ...,\n",
       "       [1., 0., 0.],\n",
       "       [1., 0., 0.],\n",
       "       [1., 0., 0.]], dtype=float32)"
      ]
     },
     "execution_count": 11,
     "metadata": {},
     "output_type": "execute_result"
    }
   ],
   "source": [
    "var.probabilities"
   ]
  },
  {
   "cell_type": "markdown",
   "id": "ae9cfcbd-dcb3-4f03-8d10-f5578557ac1c",
   "metadata": {},
   "source": [
    "That was a 10000 bgen dosages in 10 seconds. \n",
    "\n",
    "Keep in mind that if one were to want to process those dosage variants, the space adds up quickly!\n",
    "\n",
    "For example MGI is 70,000+ individuals, storing a list of 1000 MGI variants consists of storing 4\\*70000\\*1000 >= 280_000_000 (>=1 GB)"
   ]
  },
  {
   "cell_type": "code",
   "execution_count": 7,
   "id": "8b5d5d80-1299-4d40-978d-5fbc798987a8",
   "metadata": {
    "execution": {
     "iopub.execute_input": "2023-07-24T14:40:32.033937Z",
     "iopub.status.busy": "2023-07-24T14:40:32.033558Z",
     "iopub.status.idle": "2023-07-24T14:40:32.040514Z",
     "shell.execute_reply": "2023-07-24T14:40:32.040023Z",
     "shell.execute_reply.started": "2023-07-24T14:40:32.033914Z"
    }
   },
   "outputs": [
    {
     "data": {
      "text/plain": [
       "70266"
      ]
     },
     "execution_count": 7,
     "metadata": {},
     "output_type": "execute_result"
    }
   ],
   "source": [
    "len(dosages[0])"
   ]
  },
  {
   "cell_type": "code",
   "execution_count": null,
   "id": "6e30ace2-0040-49b2-9a8f-8562d3247fd1",
   "metadata": {},
   "outputs": [],
   "source": [
    "# follow this sequence of formulas for calculating R2\n",
    "# https://cran.r-project.org/web/packages/BinaryDosage/vignettes/r2estimates.html"
   ]
  }
 ],
 "metadata": {
  "kernelspec": {
   "display_name": "Python 3 (ipykernel)",
   "language": "python",
   "name": "python3"
  },
  "language_info": {
   "codemirror_mode": {
    "name": "ipython",
    "version": 3
   },
   "file_extension": ".py",
   "mimetype": "text/x-python",
   "name": "python",
   "nbconvert_exporter": "python",
   "pygments_lexer": "ipython3",
   "version": "3.10.9"
  }
 },
 "nbformat": 4,
 "nbformat_minor": 5
}
