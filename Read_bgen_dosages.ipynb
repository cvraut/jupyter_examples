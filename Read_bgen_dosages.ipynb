{
 "cells": [
  {
   "cell_type": "markdown",
   "id": "2a7b2b0a-8999-4be2-925c-fd31fbe52e29",
   "metadata": {},
   "source": [
    "# Read bgen dosages"
   ]
  },
  {
   "cell_type": "markdown",
   "id": "166cdb20-a239-49d8-b7d4-acf83d8d0f8e",
   "metadata": {},
   "source": [
    "This notebook offers a tutorial for how to read bgen files in python."
   ]
  },
  {
   "cell_type": "code",
   "execution_count": 64,
   "id": "75c82924-42f3-4c41-9e1c-c88ea6126dfe",
   "metadata": {
    "execution": {
     "iopub.execute_input": "2023-07-25T21:56:15.652872Z",
     "iopub.status.busy": "2023-07-25T21:56:15.652447Z",
     "iopub.status.idle": "2023-07-25T21:56:15.656192Z",
     "shell.execute_reply": "2023-07-25T21:56:15.655697Z",
     "shell.execute_reply.started": "2023-07-25T21:56:15.652853Z"
    }
   },
   "outputs": [],
   "source": [
    "from bgen.reader import BgenFile\n",
    "import numpy as np\n",
    "import pandas as pd\n",
    "import seaborn as sns"
   ]
  },
  {
   "cell_type": "code",
   "execution_count": 16,
   "id": "d415e40d-8265-440f-9fa6-f550137ad7b8",
   "metadata": {
    "execution": {
     "iopub.execute_input": "2023-07-25T18:46:07.458643Z",
     "iopub.status.busy": "2023-07-25T18:46:07.458324Z",
     "iopub.status.idle": "2023-07-25T18:46:17.921383Z",
     "shell.execute_reply": "2023-07-25T18:46:17.920843Z",
     "shell.execute_reply.started": "2023-07-25T18:46:07.458622Z"
    }
   },
   "outputs": [
    {
     "name": "stdout",
     "output_type": "stream",
     "text": [
      "10000\n"
     ]
    }
   ],
   "source": [
    "bfile = BgenFile(\"/mnt/speliotes-lab/Projects/MGI/HPI8258/GENODATA/BGEN/MGI_F5_UNFILTERED_chr22_no_phase_8bits.bgen\")\n",
    "rsids = bfile.rsids()\n",
    "dosages = []\n",
    "geno_probs = []\n",
    "for i,variant in enumerate(rsids):\n",
    "    if i>=10000:\n",
    "        break\n",
    "    var = bfile[i]\n",
    "    dosage = var.alt_dosage\n",
    "    geno_prob = var.probabilities\n",
    "    dosages.append(dosage)\n",
    "    geno_probs.append(geno_prob)\n",
    "print(len(dosages))"
   ]
  },
  {
   "cell_type": "markdown",
   "id": "ae9cfcbd-dcb3-4f03-8d10-f5578557ac1c",
   "metadata": {},
   "source": [
    "That was a 10000 bgen dosages in 10 seconds. \n",
    "\n",
    "Keep in mind that if one were to want to process those dosage variants, the space adds up quickly!\n",
    "\n",
    "For example MGI is 70,000+ individuals, storing a list of 1000 MGI variants consists of storing 4\\*70000\\*1000 >= 280_000_000 (>=1 GB)"
   ]
  },
  {
   "cell_type": "code",
   "execution_count": 7,
   "id": "8b5d5d80-1299-4d40-978d-5fbc798987a8",
   "metadata": {
    "execution": {
     "iopub.execute_input": "2023-07-24T14:40:32.033937Z",
     "iopub.status.busy": "2023-07-24T14:40:32.033558Z",
     "iopub.status.idle": "2023-07-24T14:40:32.040514Z",
     "shell.execute_reply": "2023-07-24T14:40:32.040023Z",
     "shell.execute_reply.started": "2023-07-24T14:40:32.033914Z"
    }
   },
   "outputs": [
    {
     "data": {
      "text/plain": [
       "70266"
      ]
     },
     "execution_count": 7,
     "metadata": {},
     "output_type": "execute_result"
    }
   ],
   "source": [
    "len(dosages[0])"
   ]
  },
  {
   "cell_type": "markdown",
   "id": "47041047-4b5e-4ac6-a407-c50662952983",
   "metadata": {},
   "source": [
    "# Calculating R2 from the dosages and genotype probabilities"
   ]
  },
  {
   "cell_type": "markdown",
   "id": "3a8a09d7-0f01-424c-9594-af3790358453",
   "metadata": {},
   "source": [
    "In order to calculate the R2 value for a single variant, one would need the haplotype dosages per individual. The haplotype dosages can be back-calculated from the dosages and genotype probabilities. Based on the following equations:\n",
    "$$d = P(g=1) + 2P(g=2)$$\n",
    "$$q_1 (1-q_2) + (1-q_1) q_2 = P(g=1)$$\n",
    "$$q_1 q_2 = P(g=2)$$\n",
    "where $d$ is the dosage for the given individual, $P(g=1)$ is the probability that the individual's genotype is 1 & $P(g=2)$ is the probability that the individual's genotype is 2, and $q_1$ & $q_2$ are the individual's haplotype probabilities/dosages.\n",
    "\n",
    "We can rewrite those 3 equations into 2 much simpler equations:\n",
    "$$d = q_1+q_2$$\n",
    "$$q_1 q_2 = P(g=2)$$\n",
    "The intuition behind these equations is fairly obvious. The first is the definition of dosage from haplotype dosages. The second is the law of joint probability.\n",
    "\n",
    "Solving these systems of equations and completing the square gives us a solution for each haplotype dosage:\n",
    "$$q_1 = d - q_2$$\n",
    "$$(d - q_2) q_2 = P(g=2)$$\n",
    "$$ d q_2 - q_2^2 = P(g=2)$$\n",
    "$$0 = q^2_2 - d - q_2 + P(g=2)$$\n",
    "$$q_2 = \\frac{d \\pm \\sqrt{d^2 - 4 P(g=2)}}{2}$$\n",
    "$$q_1 = \\frac{d \\pm \\sqrt{d^2 - 4 P(g=2)}}{2}$$\n",
    "$$q_1,q_2 = \\frac{d \\pm \\sqrt{d^2 - 4 P(g=2)}}{2}$$\n",
    "Two solutions, two variables. Assign one solution to each because order really doesn't matter.\n",
    "\n",
    "Now the R2 formula is a simple ratio of deviance of the Mean Sum of Squared Differences for individual haplotypes against empirical allele frequency and the standard deviation of the allele frequency assuming haplotypes follow a bernouli random variable.\n",
    "$$\\hat{r}^2 = \\frac{\\frac{1}{2N} \\sum_{i=1}^{2N}(q_i - \\hat{q})^2}{\\hat{q}(1-\\hat{q})}$$\n",
    "\n",
    "Where *haplotypes* go from $i=1, ..., 2N$. Theoretically we should not observe a variance larger than $\\hat{q}(1-\\hat{q})$, but I am not certain if this is actually true or why ... please enlighten me if able 🙂"
   ]
  },
  {
   "cell_type": "code",
   "execution_count": 66,
   "id": "6e30ace2-0040-49b2-9a8f-8562d3247fd1",
   "metadata": {
    "execution": {
     "iopub.execute_input": "2023-07-25T21:56:52.214223Z",
     "iopub.status.busy": "2023-07-25T21:56:52.213743Z",
     "iopub.status.idle": "2023-07-25T21:57:08.302891Z",
     "shell.execute_reply": "2023-07-25T21:57:08.302368Z",
     "shell.execute_reply.started": "2023-07-25T21:56:52.214204Z"
    }
   },
   "outputs": [
    {
     "name": "stdout",
     "output_type": "stream",
     "text": [
      "10000\n"
     ]
    }
   ],
   "source": [
    "# follow this sequence of formulas for calculating R2\n",
    "# https://cran.r-project.org/web/packages/BinaryDosage/vignettes/r2estimates.html\n",
    "\n",
    "def calc_rsq(dosages,geno_prob,i,eps=1e-30):\n",
    "    n = len(dosages)\n",
    "    geno_prob2 = geno_prob[:,2]\n",
    "    q_hat = np.sum(dosages)/(2*n)\n",
    "    if q_hat > 0.5:\n",
    "        dosages = 2-dosages\n",
    "        q_hat = np.sum(dosages)/(2*n)\n",
    "        geno_prob2 = geno_prob[:,0]\n",
    "    d_diff = np.square(dosages)-(4*geno_prob2)\n",
    "    if any(d_diff < 0):\n",
    "        return np.nan\n",
    "    q1 = 0.5*(dosages-(d_diff)**0.5)\n",
    "    q2 = 0.5*(dosages+(d_diff)**0.5)\n",
    "    num = np.sum((q1-q_hat)**2) + np.sum((q2-q_hat)**2)\n",
    "    denom = (2*n*q_hat*(1-q_hat))\n",
    "    if denom == 0:\n",
    "        denom+=eps\n",
    "    r2 = num/denom\n",
    "    return r2\n",
    "\n",
    "r2s = [calc_rsq(dosages[i],geno_probs[i],i) for i in range(len(dosages))]\n",
    "print(len(r2s))"
   ]
  },
  {
   "cell_type": "markdown",
   "id": "fce6778a-6a71-4d55-86a4-9bb7ab62539d",
   "metadata": {},
   "source": [
    "10,000 R2 values in 20 seconds, numpy vectoriation is efficient. Make sure to delete the variants `del dosages` and `del geno_probs` since space is the bottleneck with bgen dosages."
   ]
  },
  {
   "cell_type": "markdown",
   "id": "ed699f3d-e126-47fc-ba83-ad864b46e65e",
   "metadata": {},
   "source": [
    "# Verification of Results"
   ]
  },
  {
   "cell_type": "code",
   "execution_count": 65,
   "id": "788b6c25-0de7-4824-b7db-965645bc2690",
   "metadata": {
    "execution": {
     "iopub.execute_input": "2023-07-25T21:56:18.673726Z",
     "iopub.status.busy": "2023-07-25T21:56:18.673465Z",
     "iopub.status.idle": "2023-07-25T21:56:19.189429Z",
     "shell.execute_reply": "2023-07-25T21:56:19.188934Z",
     "shell.execute_reply.started": "2023-07-25T21:56:18.673708Z"
    }
   },
   "outputs": [
    {
     "data": {
      "text/plain": [
       "<Axes: ylabel='Count'>"
      ]
     },
     "execution_count": 65,
     "metadata": {},
     "output_type": "execute_result"
    },
    {
     "data": {
      "image/png": "[encoded data removed]",
      "text/plain": [
       "<Figure size 640x480 with 1 Axes>"
      ]
     },
     "metadata": {},
     "output_type": "display_data"
    }
   ],
   "source": [
    "# visualize R2 values in a histogram to make sure that values make sense and follow the intended distribution\n",
    "sns.histplot(r2s)"
   ]
  },
  {
   "cell_type": "code",
   "execution_count": 68,
   "id": "70b8e674-76a0-4256-8cae-bbbc4ece5409",
   "metadata": {
    "execution": {
     "iopub.execute_input": "2023-07-25T22:01:28.663591Z",
     "iopub.status.busy": "2023-07-25T22:01:28.663115Z",
     "iopub.status.idle": "2023-07-25T22:01:28.667923Z",
     "shell.execute_reply": "2023-07-25T22:01:28.667443Z",
     "shell.execute_reply.started": "2023-07-25T22:01:28.663572Z"
    }
   },
   "outputs": [
    {
     "name": "stdout",
     "output_type": "stream",
     "text": [
      "10000\n"
     ]
    }
   ],
   "source": [
    "r2_map = {rsid:r2 for r2,rsid in zip(r2s,rsids)}\n",
    "print(len(r2_map))"
   ]
  },
  {
   "cell_type": "code",
   "execution_count": 36,
   "id": "031ccccf-3b29-4ace-a8eb-f72cbf4dc779",
   "metadata": {
    "execution": {
     "iopub.execute_input": "2023-07-25T19:28:57.754995Z",
     "iopub.status.busy": "2023-07-25T19:28:57.754665Z",
     "iopub.status.idle": "2023-07-25T19:28:57.759023Z",
     "shell.execute_reply": "2023-07-25T19:28:57.758546Z",
     "shell.execute_reply.started": "2023-07-25T19:28:57.754975Z"
    }
   },
   "outputs": [
    {
     "name": "stdout",
     "output_type": "stream",
     "text": [
      "MarkerID\timputationInfo\n",
      "chr22:10510227:A:G\t0.152321\n",
      "chr22:10513650:G:T\t0.187015\n",
      "chr22:10515480:A:G\t0.0903411\n",
      "chr22:10516450:GT:G\t0.128852\n",
      "chr22:10517056:CA:C\t0.0997894\n",
      "chr22:10518420:CA:C\t0.107599\n",
      "chr22:10518603:A:G\t0.152328\n",
      "chr22:10519389:T:C\t0.148322\n",
      "chr22:10527278:T:A\t0.25855\n",
      "chr22:10527415:C:T\t0.171471\n",
      "chr22:10527483:GGC:G\t0.110397\n"
     ]
    }
   ],
   "source": [
    "with open(\"/mnt/speliotes-lab/Projects/MGI/HPI8258/SAIGE/result/NAFLD_ALL/MGI_HPI8258_TOPMED_NAFLD_ALL_chr22.bgen.new.txt.INFO\",\"r\") as f:\n",
    "    for i,line in enumerate(f):\n",
    "        print(line.strip())\n",
    "        if i >10:\n",
    "            break"
   ]
  },
  {
   "cell_type": "code",
   "execution_count": 70,
   "id": "b4cc560d-47e3-4302-95c9-b1e1e008f7c4",
   "metadata": {
    "execution": {
     "iopub.execute_input": "2023-07-25T22:02:25.523354Z",
     "iopub.status.busy": "2023-07-25T22:02:25.523035Z",
     "iopub.status.idle": "2023-07-25T22:02:25.957963Z",
     "shell.execute_reply": "2023-07-25T22:02:25.957437Z",
     "shell.execute_reply.started": "2023-07-25T22:02:25.523335Z"
    }
   },
   "outputs": [
    {
     "name": "stdout",
     "output_type": "stream",
     "text": [
      "(845687, 2)\n"
     ]
    }
   ],
   "source": [
    "saige_infos = pd.read_table(\"/mnt/speliotes-lab/Projects/MGI/HPI8258/SAIGE/result/NAFLD_ALL/MGI_HPI8258_TOPMED_NAFLD_ALL_chr22.bgen.new.txt.INFO\")\n",
    "print(saige_infos.shape)"
   ]
  },
  {
   "cell_type": "code",
   "execution_count": 73,
   "id": "0767a1fc-e301-46bf-8631-3b8eeafc6187",
   "metadata": {
    "execution": {
     "iopub.execute_input": "2023-07-25T22:07:02.478682Z",
     "iopub.status.busy": "2023-07-25T22:07:02.478186Z",
     "iopub.status.idle": "2023-07-25T22:07:02.732879Z",
     "shell.execute_reply": "2023-07-25T22:07:02.732386Z",
     "shell.execute_reply.started": "2023-07-25T22:07:02.478662Z"
    }
   },
   "outputs": [
    {
     "name": "stdout",
     "output_type": "stream",
     "text": [
      "(463, 3)\n",
      "0\n"
     ]
    },
    {
     "data": {
      "text/html": [
       "<div>\n",
       "<style scoped>\n",
       "    .dataframe tbody tr th:only-of-type {\n",
       "        vertical-align: middle;\n",
       "    }\n",
       "\n",
       "    .dataframe tbody tr th {\n",
       "        vertical-align: top;\n",
       "    }\n",
       "\n",
       "    .dataframe thead th {\n",
       "        text-align: right;\n",
       "    }\n",
       "</style>\n",
       "<table border=\"1\" class=\"dataframe\">\n",
       "  <thead>\n",
       "    <tr style=\"text-align: right;\">\n",
       "      <th></th>\n",
       "      <th>id</th>\n",
       "      <th>my_r2</th>\n",
       "      <th>saige_r2</th>\n",
       "    </tr>\n",
       "  </thead>\n",
       "  <tbody>\n",
       "    <tr>\n",
       "      <th>0</th>\n",
       "      <td>chr22:10510227:A:G</td>\n",
       "      <td>0.152322</td>\n",
       "      <td>0.152321</td>\n",
       "    </tr>\n",
       "    <tr>\n",
       "      <th>1</th>\n",
       "      <td>chr22:10513650:G:T</td>\n",
       "      <td>0.187016</td>\n",
       "      <td>0.187015</td>\n",
       "    </tr>\n",
       "    <tr>\n",
       "      <th>2</th>\n",
       "      <td>chr22:10515480:A:G</td>\n",
       "      <td>0.090342</td>\n",
       "      <td>0.090341</td>\n",
       "    </tr>\n",
       "    <tr>\n",
       "      <th>3</th>\n",
       "      <td>chr22:10516450:GT:G</td>\n",
       "      <td>0.128853</td>\n",
       "      <td>0.128852</td>\n",
       "    </tr>\n",
       "    <tr>\n",
       "      <th>4</th>\n",
       "      <td>chr22:10517056:CA:C</td>\n",
       "      <td>0.099790</td>\n",
       "      <td>0.099789</td>\n",
       "    </tr>\n",
       "    <tr>\n",
       "      <th>...</th>\n",
       "      <td>...</td>\n",
       "      <td>...</td>\n",
       "      <td>...</td>\n",
       "    </tr>\n",
       "    <tr>\n",
       "      <th>458</th>\n",
       "      <td>chr22:11433188:G:A</td>\n",
       "      <td>0.177299</td>\n",
       "      <td>0.177298</td>\n",
       "    </tr>\n",
       "    <tr>\n",
       "      <th>459</th>\n",
       "      <td>chr22:11438625:A:G</td>\n",
       "      <td>0.118999</td>\n",
       "      <td>0.118998</td>\n",
       "    </tr>\n",
       "    <tr>\n",
       "      <th>460</th>\n",
       "      <td>chr22:11444185:T:C</td>\n",
       "      <td>0.209565</td>\n",
       "      <td>0.209564</td>\n",
       "    </tr>\n",
       "    <tr>\n",
       "      <th>461</th>\n",
       "      <td>chr22:11446953:AAAG:A</td>\n",
       "      <td>0.171705</td>\n",
       "      <td>0.171704</td>\n",
       "    </tr>\n",
       "    <tr>\n",
       "      <th>462</th>\n",
       "      <td>chr22:11446998:T:C</td>\n",
       "      <td>0.272255</td>\n",
       "      <td>0.272254</td>\n",
       "    </tr>\n",
       "  </tbody>\n",
       "</table>\n",
       "<p>463 rows × 3 columns</p>\n",
       "</div>"
      ],
      "text/plain": [
       "                        id     my_r2  saige_r2\n",
       "0       chr22:10510227:A:G  0.152322  0.152321\n",
       "1       chr22:10513650:G:T  0.187016  0.187015\n",
       "2       chr22:10515480:A:G  0.090342  0.090341\n",
       "3      chr22:10516450:GT:G  0.128853  0.128852\n",
       "4      chr22:10517056:CA:C  0.099790  0.099789\n",
       "..                     ...       ...       ...\n",
       "458     chr22:11433188:G:A  0.177299  0.177298\n",
       "459     chr22:11438625:A:G  0.118999  0.118998\n",
       "460     chr22:11444185:T:C  0.209565  0.209564\n",
       "461  chr22:11446953:AAAG:A  0.171705  0.171704\n",
       "462     chr22:11446998:T:C  0.272255  0.272254\n",
       "\n",
       "[463 rows x 3 columns]"
      ]
     },
     "execution_count": 73,
     "metadata": {},
     "output_type": "execute_result"
    }
   ],
   "source": [
    "sus = []\n",
    "r2_comp_rows = []\n",
    "for m,r2 in zip(saige_infos.MarkerID, saige_infos.imputationInfo):\n",
    "    if m in r2_map:\n",
    "        r2_comp_rows.append({\"id\":m,\"my_r2\":r2_map[m],\"saige_r2\":r2})\n",
    "        if abs(r2-r2_map[m]) > 0.0001:\n",
    "            sus.append(m)\n",
    "r2_comp_df = pd.DataFrame(r2_comp_rows)\n",
    "print(r2_comp_df.shape)\n",
    "print(len(sus))\n",
    "r2_comp_df"
   ]
  },
  {
   "cell_type": "markdown",
   "id": "5b6954fe-b9ad-44ff-885a-d1cf2541e739",
   "metadata": {},
   "source": [
    "So in this brief test of 463 variants, I am able to replicate the R2 value produced by SAIGE within the measurement error margins"
   ]
  },
  {
   "cell_type": "code",
   "execution_count": 89,
   "id": "b14b1832-ad1d-4baf-a005-40d64311d372",
   "metadata": {
    "execution": {
     "iopub.execute_input": "2023-07-25T22:54:02.530898Z",
     "iopub.status.busy": "2023-07-25T22:54:02.530393Z",
     "iopub.status.idle": "2023-07-25T22:54:07.192570Z",
     "shell.execute_reply": "2023-07-25T22:54:07.192052Z",
     "shell.execute_reply.started": "2023-07-25T22:54:02.530874Z"
    }
   },
   "outputs": [
    {
     "name": "stdout",
     "output_type": "stream",
     "text": [
      "ERROR! Session/line number was not unique in database. History logging moved to new session 158\n"
     ]
    }
   ],
   "source": [
    "%reset -f"
   ]
  },
  {
   "cell_type": "markdown",
   "id": "8cb233c5-8037-4733-8375-30a4e8b20031",
   "metadata": {},
   "source": [
    "# Scaling up"
   ]
  },
  {
   "cell_type": "markdown",
   "id": "754ed177-742f-434e-b31e-285571551a53",
   "metadata": {},
   "source": [
    "Recall that memory management is a massive issue. I will demonstrate an example of how to process chr22 dosages in a memory efficient manner, making use of parallelization to speed up the generation of R2 values."
   ]
  },
  {
   "cell_type": "code",
   "execution_count": 1,
   "id": "61153cb1-3730-40bd-a8ff-b5c4cabe03f7",
   "metadata": {
    "execution": {
     "iopub.execute_input": "2023-07-25T23:15:13.553412Z",
     "iopub.status.busy": "2023-07-25T23:15:13.553188Z",
     "iopub.status.idle": "2023-07-25T23:15:13.659606Z",
     "shell.execute_reply": "2023-07-25T23:15:13.659046Z",
     "shell.execute_reply.started": "2023-07-25T23:15:13.553390Z"
    }
   },
   "outputs": [],
   "source": [
    "from bgen.reader import BgenFile, BgenReader\n",
    "import numpy as np\n",
    "from multiprocessing import Pool"
   ]
  },
  {
   "cell_type": "code",
   "execution_count": 2,
   "id": "bf627cc4-0c5e-4a19-aed4-11b42c67ba8b",
   "metadata": {
    "execution": {
     "iopub.execute_input": "2023-07-25T23:16:38.421680Z",
     "iopub.status.busy": "2023-07-25T23:16:38.421278Z",
     "iopub.status.idle": "2023-07-25T23:16:41.020977Z",
     "shell.execute_reply": "2023-07-25T23:16:41.020051Z",
     "shell.execute_reply.started": "2023-07-25T23:16:38.421654Z"
    }
   },
   "outputs": [
    {
     "name": "stdout",
     "output_type": "stream",
     "text": [
      "4140642\n"
     ]
    }
   ],
   "source": [
    "bfile = BgenReader(\"/mnt/speliotes-lab/Projects/MGI/HPI8258/GENODATA/BGEN/MGI_F5_UNFILTERED_chr22_no_phase_8bits.bgen\")\n",
    "rsids = bfile.rsids()\n",
    "print(len(rsids))"
   ]
  },
  {
   "cell_type": "code",
   "execution_count": 3,
   "id": "d7fe7bb5-69d3-432f-ab17-8e652b57b2b5",
   "metadata": {
    "execution": {
     "iopub.execute_input": "2023-07-25T23:16:59.116478Z",
     "iopub.status.busy": "2023-07-25T23:16:59.116001Z",
     "iopub.status.idle": "2023-07-25T23:16:59.123520Z",
     "shell.execute_reply": "2023-07-25T23:16:59.123045Z",
     "shell.execute_reply.started": "2023-07-25T23:16:59.116449Z"
    }
   },
   "outputs": [
    {
     "data": {
      "text/plain": [
       "'chr22:24752376:C:T'"
      ]
     },
     "execution_count": 3,
     "metadata": {},
     "output_type": "execute_result"
    }
   ],
   "source": [
    "rsids[1_000_000]"
   ]
  },
  {
   "cell_type": "code",
   "execution_count": 20,
   "id": "b079de5d-af4f-454e-a914-5964fd288385",
   "metadata": {
    "execution": {
     "iopub.execute_input": "2023-07-25T23:41:29.108578Z",
     "iopub.status.busy": "2023-07-25T23:41:29.108137Z",
     "iopub.status.idle": "2023-07-25T23:41:44.625659Z",
     "shell.execute_reply": "2023-07-25T23:41:44.624905Z",
     "shell.execute_reply.started": "2023-07-25T23:41:29.108552Z"
    }
   },
   "outputs": [
    {
     "name": "stdout",
     "output_type": "stream",
     "text": [
      "0.0% done\n",
      "2.4150844241062135% done\n",
      "4.830168848212427% done\n",
      "7.24525327231864% done\n",
      "9.660337696424854% done\n",
      "12.075422120531067% done\n",
      "14.49050654463728% done\n",
      "16.905590968743496% done\n",
      "19.320675392849708% done\n",
      "21.73575981695592% done\n",
      "24.150844241062135% done\n",
      "26.565928665168347% done\n",
      "28.98101308927456% done\n",
      "31.396097513380777% done\n",
      "33.81118193748699% done\n",
      "36.226266361593204% done\n",
      "38.641350785699416% done\n",
      "41.05643520980563% done\n",
      "43.47151963391184% done\n",
      "45.88660405801805% done\n",
      "48.30168848212427% done\n",
      "50.71677290623048% done\n",
      "53.13185733033669% done\n",
      "55.54694175444291% done\n",
      "57.96202617854912% done\n",
      "60.377110602655335% done\n",
      "62.792195026761554% done\n",
      "65.20727945086776% done\n",
      "67.62236387497398% done\n",
      "70.0374482990802% done\n",
      "72.45253272318641% done\n",
      "74.86761714729262% done\n",
      "77.28270157139883% done\n",
      "79.69778599550504% done\n",
      "82.11287041961126% done\n",
      "84.52795484371747% done\n",
      "86.94303926782368% done\n",
      "89.3581236919299% done\n",
      "91.7732081160361% done\n",
      "94.18829254014233% done\n",
      "96.60337696424854% done\n",
      "99.01846138835475% done\n",
      "4140642\n"
     ]
    }
   ],
   "source": [
    "positions = []\n",
    "bfile = BgenReader(\"/mnt/speliotes-lab/Projects/MGI/HPI8258/GENODATA/BGEN/MGI_F5_UNFILTERED_chr22_no_phase_8bits.bgen\")\n",
    "for i,var in enumerate(bfile):\n",
    "    if i %100000 == 0:\n",
    "        print(f\"{i/len(rsids)*100}% done\")\n",
    "    positions.append(var.pos)\n",
    "print(len(positions))"
   ]
  },
  {
   "cell_type": "code",
   "execution_count": 29,
   "id": "fea1bb6c-c7c2-40fd-8196-b122a16c4295",
   "metadata": {
    "execution": {
     "iopub.execute_input": "2023-07-26T00:10:53.719098Z",
     "iopub.status.busy": "2023-07-26T00:10:53.718637Z",
     "iopub.status.idle": "2023-07-26T00:10:53.838957Z",
     "shell.execute_reply": "2023-07-26T00:10:53.838463Z",
     "shell.execute_reply.started": "2023-07-26T00:10:53.719074Z"
    }
   },
   "outputs": [
    {
     "name": "stdout",
     "output_type": "stream",
     "text": [
      "10510226 50807871\n",
      "10500000 50900000\n",
      "404\n"
     ]
    },
    {
     "data": {
      "text/plain": [
       "[(50400000, 50500000),\n",
       " (50500000, 50600000),\n",
       " (50600000, 50700000),\n",
       " (50700000, 50800000),\n",
       " (50800000, 50900000)]"
      ]
     },
     "execution_count": 29,
     "metadata": {},
     "output_type": "execute_result"
    }
   ],
   "source": [
    "window_start = min(positions)-1\n",
    "window_end = max(positions)+1\n",
    "print(window_start,window_end)\n",
    "bp_per_job = 100000\n",
    "rounded_start = window_start//bp_per_job * bp_per_job\n",
    "rounded_end = (window_end//bp_per_job+1) * (bp_per_job)\n",
    "print(rounded_start, rounded_end)\n",
    "# build the batches\n",
    "batches = [(ws,ws+bp_per_job) for ws in range(rounded_start,rounded_end,bp_per_job)]\n",
    "print(len(batches))\n",
    "batches[-5:]"
   ]
  },
  {
   "cell_type": "code",
   "execution_count": 27,
   "id": "a6594a98-eb0a-4552-8227-db0ee440ec93",
   "metadata": {
    "execution": {
     "iopub.execute_input": "2023-07-26T00:10:33.401199Z",
     "iopub.status.busy": "2023-07-26T00:10:33.400850Z",
     "iopub.status.idle": "2023-07-26T00:10:33.404307Z",
     "shell.execute_reply": "2023-07-26T00:10:33.403800Z",
     "shell.execute_reply.started": "2023-07-26T00:10:33.401177Z"
    }
   },
   "outputs": [],
   "source": [
    "vars = bfile.fetch(22, start=batches[-1][0], stop=batches[-1][1])"
   ]
  },
  {
   "cell_type": "code",
   "execution_count": 28,
   "id": "57931476-79db-4db5-983f-7df05cfd42d3",
   "metadata": {
    "execution": {
     "iopub.execute_input": "2023-07-26T00:10:35.761530Z",
     "iopub.status.busy": "2023-07-26T00:10:35.761185Z",
     "iopub.status.idle": "2023-07-26T00:10:35.989777Z",
     "shell.execute_reply": "2023-07-26T00:10:35.989179Z",
     "shell.execute_reply.started": "2023-07-26T00:10:35.761509Z"
    }
   },
   "outputs": [],
   "source": [
    "for var in vars:\n",
    "    dosages = var.alt_dosage"
   ]
  },
  {
   "cell_type": "code",
   "execution_count": 40,
   "id": "c1c79b7f-963e-446f-ae41-ce0bd55faa72",
   "metadata": {
    "execution": {
     "iopub.execute_input": "2023-07-26T00:23:30.918383Z",
     "iopub.status.busy": "2023-07-26T00:23:30.918040Z",
     "iopub.status.idle": "2023-07-26T00:24:36.293734Z",
     "shell.execute_reply": "2023-07-26T00:24:36.292959Z",
     "shell.execute_reply.started": "2023-07-26T00:23:30.918363Z"
    }
   },
   "outputs": [
    {
     "name": "stdout",
     "output_type": "stream",
     "text": [
      "16221 14419\n"
     ]
    }
   ],
   "source": [
    "def calc_rsq(dosages,geno_prob,eps=1e-30):\n",
    "    n = len(dosages)\n",
    "    geno_prob2 = geno_prob[:,2]\n",
    "    q_hat = np.sum(dosages)/(2*n)\n",
    "    if q_hat > 0.5:\n",
    "        dosages = 2-dosages\n",
    "        q_hat = np.sum(dosages)/(2*n)\n",
    "        geno_prob2 = geno_prob[:,0]\n",
    "    d_diff = np.square(dosages)-(4*geno_prob2)\n",
    "    d_diff[np.logical_and(d_diff < 0, d_diff > -0.1)] = 0.0\n",
    "    if any(d_diff < 0):\n",
    "        # deal with this case later ...\n",
    "        return np.nan\n",
    "    d_diff = (d_diff)**0.5\n",
    "    q1 = 0.5*(dosages-d_diff)\n",
    "    q2 = 0.5*(dosages+d_diff)\n",
    "    num = np.sum((q1-q_hat)**2) + np.sum((q2-q_hat)**2)\n",
    "    denom = (2*n*q_hat*(1-q_hat))\n",
    "    if denom == 0:\n",
    "        denom+=eps\n",
    "    r2 = num/denom\n",
    "    return r2\n",
    "\n",
    "def process_batch(batch):\n",
    "    result = []\n",
    "    \n",
    "    with BgenReader(\"/mnt/speliotes-lab/Projects/MGI/HPI8258/GENODATA/BGEN/MGI_F5_UNFILTERED_chr22_no_phase_8bits.bgen\", delay_parsing=True) as bfile:\n",
    "        vars = bfile.fetch(22, start=batch[0], stop=batch[1])\n",
    "        for i,var in enumerate(vars):\n",
    "            rsid = var.rsid\n",
    "            # if i%10000 == 0:\n",
    "            #     print(i,rsid)\n",
    "            dosage = var.alt_dosage\n",
    "            geno_prob = var.probabilities\n",
    "            r2 = calc_rsq(dosage,geno_prob)\n",
    "            result.append({\"MarkerID\":rsid,\"R2\":r2})\n",
    "    return result\n",
    "\n",
    "batch_0 = process_batch(batches[-20])\n",
    "batch_1 = process_batch(batches[-10])\n",
    "print(len(batch_0),len(batch_1))"
   ]
  },
  {
   "cell_type": "code",
   "execution_count": 35,
   "id": "890a8a51-1ddb-4aec-aacf-8c47416517aa",
   "metadata": {
    "execution": {
     "iopub.execute_input": "2023-07-26T00:17:46.494103Z",
     "iopub.status.busy": "2023-07-26T00:17:46.493721Z",
     "iopub.status.idle": "2023-07-26T00:17:46.499085Z",
     "shell.execute_reply": "2023-07-26T00:17:46.498613Z",
     "shell.execute_reply.started": "2023-07-26T00:17:46.494078Z"
    }
   },
   "outputs": [
    {
     "data": {
      "text/plain": [
       "[{'MarkerID': 'chr22:48900003:C:T', 'R2': 0.7229040725922776},\n",
       " {'MarkerID': 'chr22:48900004:A:G', 'R2': 0.9321788377637905},\n",
       " {'MarkerID': 'chr22:48900008:C:T', 'R2': 0.8001940833555139},\n",
       " {'MarkerID': 'chr22:48900011:G:A', 'R2': 0.6245013362018397},\n",
       " {'MarkerID': 'chr22:48900023:T:G', 'R2': 0.30536758766504274},\n",
       " {'MarkerID': 'chr22:48900035:C:A', 'R2': 0.928720287234621},\n",
       " {'MarkerID': 'chr22:48900035:C:T', 'R2': 0.29665077651077404},\n",
       " {'MarkerID': 'chr22:48900037:C:T', 'R2': 0.4924804485762132},\n",
       " {'MarkerID': 'chr22:48900038:G:A', 'R2': 0.5838764000394133},\n",
       " {'MarkerID': 'chr22:48900038:G:C', 'R2': 0.020963101229438025}]"
      ]
     },
     "execution_count": 35,
     "metadata": {},
     "output_type": "execute_result"
    }
   ],
   "source": [
    "batch_0[:10]"
   ]
  },
  {
   "cell_type": "code",
   "execution_count": 36,
   "id": "85e1661f-013c-4105-b268-8cae8fe6c1ab",
   "metadata": {
    "execution": {
     "iopub.execute_input": "2023-07-26T00:17:50.115274Z",
     "iopub.status.busy": "2023-07-26T00:17:50.114738Z",
     "iopub.status.idle": "2023-07-26T00:17:50.119623Z",
     "shell.execute_reply": "2023-07-26T00:17:50.119054Z",
     "shell.execute_reply.started": "2023-07-26T00:17:50.115254Z"
    }
   },
   "outputs": [
    {
     "data": {
      "text/plain": [
       "[{'MarkerID': 'chr22:49900003:A:T', 'R2': 0.502935630343228},\n",
       " {'MarkerID': 'chr22:49900004:T:A', 'R2': 0.4855231777511671},\n",
       " {'MarkerID': 'chr22:49900009:T:A', 'R2': 0.7983518586209629},\n",
       " {'MarkerID': 'chr22:49900018:G:C', 'R2': 0.19109896117621397},\n",
       " {'MarkerID': 'chr22:49900038:C:A', 'R2': 0.006162175485783074},\n",
       " {'MarkerID': 'chr22:49900045:T:A', 'R2': 0.8571859674549261},\n",
       " {'MarkerID': 'chr22:49900054:C:T', 'R2': 0.28806926406439143},\n",
       " {'MarkerID': 'chr22:49900074:G:A', 'R2': 0.9741784708730795},\n",
       " {'MarkerID': 'chr22:49900075:G:A', 'R2': 0.10494748307867147},\n",
       " {'MarkerID': 'chr22:49900081:T:G', 'R2': 0.41812637256614404}]"
      ]
     },
     "execution_count": 36,
     "metadata": {},
     "output_type": "execute_result"
    }
   ],
   "source": [
    "batch_1[:10]"
   ]
  },
  {
   "cell_type": "code",
   "execution_count": 37,
   "id": "9a851dcb-56db-499d-b8cd-a2d4a5fc89ec",
   "metadata": {
    "execution": {
     "iopub.execute_input": "2023-07-26T00:17:59.069849Z",
     "iopub.status.busy": "2023-07-26T00:17:59.069344Z",
     "iopub.status.idle": "2023-07-26T00:17:59.072966Z",
     "shell.execute_reply": "2023-07-26T00:17:59.072456Z",
     "shell.execute_reply.started": "2023-07-26T00:17:59.069827Z"
    }
   },
   "outputs": [
    {
     "name": "stdout",
     "output_type": "stream",
     "text": [
      "404\n"
     ]
    }
   ],
   "source": [
    "print(len(batches))"
   ]
  },
  {
   "cell_type": "code",
   "execution_count": 41,
   "id": "ffd10fa5-5bbc-45d6-996e-2b40b02b78eb",
   "metadata": {
    "execution": {
     "iopub.execute_input": "2023-07-26T00:24:41.521769Z",
     "iopub.status.busy": "2023-07-26T00:24:41.521397Z",
     "iopub.status.idle": "2023-07-26T00:25:14.827820Z",
     "shell.execute_reply": "2023-07-26T00:25:14.827160Z",
     "shell.execute_reply.started": "2023-07-26T00:24:41.521744Z"
    }
   },
   "outputs": [
    {
     "name": "stdout",
     "output_type": "stream",
     "text": [
      "32\n"
     ]
    }
   ],
   "source": [
    "mini_batches = batches[32*5:32*6]\n",
    "\n",
    "with Pool(32) as pool:\n",
    "    results = pool.map(process_batch,mini_batches)\n",
    "    print(len(results))"
   ]
  },
  {
   "cell_type": "code",
   "execution_count": 42,
   "id": "ade46687-51c6-46a8-8478-6fdf77bf8db8",
   "metadata": {
    "execution": {
     "iopub.execute_input": "2023-07-26T00:25:14.829306Z",
     "iopub.status.busy": "2023-07-26T00:25:14.829015Z",
     "iopub.status.idle": "2023-07-26T00:25:14.901244Z",
     "shell.execute_reply": "2023-07-26T00:25:14.900694Z",
     "shell.execute_reply.started": "2023-07-26T00:25:14.829285Z"
    }
   },
   "outputs": [
    {
     "name": "stdout",
     "output_type": "stream",
     "text": [
      "358014\n"
     ]
    }
   ],
   "source": [
    "collapsed_result = [res for batch in results for res in batch]\n",
    "print(len(collapsed_result))"
   ]
  },
  {
   "cell_type": "code",
   "execution_count": 43,
   "id": "647ca07c-3d51-493a-a940-fed6bc57a9e8",
   "metadata": {
    "execution": {
     "iopub.execute_input": "2023-07-26T00:27:08.168403Z",
     "iopub.status.busy": "2023-07-26T00:27:08.168062Z",
     "iopub.status.idle": "2023-07-26T00:27:12.914909Z",
     "shell.execute_reply": "2023-07-26T00:27:12.914324Z",
     "shell.execute_reply.started": "2023-07-26T00:27:08.168383Z"
    }
   },
   "outputs": [
    {
     "name": "stdout",
     "output_type": "stream",
     "text": [
      "(358014, 2)\n"
     ]
    },
    {
     "data": {
      "text/plain": [
       "<Axes: xlabel='R2', ylabel='Count'>"
      ]
     },
     "execution_count": 43,
     "metadata": {},
     "output_type": "execute_result"
    },
    {
     "data": {
      "image/png": "[encoded data removed]",
      "text/plain": [
       "<Figure size 640x480 with 1 Axes>"
      ]
     },
     "metadata": {},
     "output_type": "display_data"
    }
   ],
   "source": [
    "import pandas as pd\n",
    "import seaborn as sns\n",
    "collapsed_df = pd.DataFrame(collapsed_result)\n",
    "print(collapsed_df.shape)\n",
    "sns.histplot(collapsed_df.R2)"
   ]
  },
  {
   "cell_type": "markdown",
   "id": "b2fdfbab-de49-4284-a18b-d5e46df3de95",
   "metadata": {},
   "source": [
    "That was 350,000 variants in 30 seconds. At that rate it should take chromosome 22 about 6 minutes to finish"
   ]
  },
  {
   "cell_type": "code",
   "execution_count": 44,
   "id": "23a0c7c1-04aa-4f14-bda8-b4b14e6f1e8a",
   "metadata": {
    "execution": {
     "iopub.execute_input": "2023-07-26T00:29:12.691460Z",
     "iopub.status.busy": "2023-07-26T00:29:12.690966Z",
     "iopub.status.idle": "2023-07-26T00:35:45.719859Z",
     "shell.execute_reply": "2023-07-26T00:35:45.719133Z",
     "shell.execute_reply.started": "2023-07-26T00:29:12.691435Z"
    }
   },
   "outputs": [
    {
     "name": "stdout",
     "output_type": "stream",
     "text": [
      "404\n",
      "4140683\n"
     ]
    }
   ],
   "source": [
    "with Pool(32) as pool:\n",
    "    results = pool.map(process_batch,batches)\n",
    "    print(len(results))\n",
    "collapsed_result = [res for batch in results for res in batch]\n",
    "print(len(collapsed_result))"
   ]
  },
  {
   "cell_type": "code",
   "execution_count": 45,
   "id": "eaa15c39-e2f9-4d9e-8353-2edb6b5b4c75",
   "metadata": {
    "execution": {
     "iopub.execute_input": "2023-07-26T00:40:09.194110Z",
     "iopub.status.busy": "2023-07-26T00:40:09.193734Z",
     "iopub.status.idle": "2023-07-26T00:40:11.761846Z",
     "shell.execute_reply": "2023-07-26T00:40:11.761271Z",
     "shell.execute_reply.started": "2023-07-26T00:40:09.194084Z"
    }
   },
   "outputs": [
    {
     "name": "stdout",
     "output_type": "stream",
     "text": [
      "4140642 4140642\n"
     ]
    }
   ],
   "source": [
    "# note due to the base pair position grabbing. I think it is possible for duplicates since they are double-end inclusive\n",
    "recorded_var = set()\n",
    "filtered_result = []\n",
    "for row in collapsed_result:\n",
    "    if row[\"MarkerID\"] not in recorded_var:\n",
    "        filtered_result.append(row)\n",
    "        recorded_var.add(row[\"MarkerID\"])\n",
    "print(len(filtered_result),len(rsids))"
   ]
  }
 ],
 "metadata": {
  "kernelspec": {
   "display_name": "Python 3 (ipykernel)",
   "language": "python",
   "name": "python3"
  },
  "language_info": {
   "codemirror_mode": {
    "name": "ipython",
    "version": 3
   },
   "file_extension": ".py",
   "mimetype": "text/x-python",
   "name": "python",
   "nbconvert_exporter": "python",
   "pygments_lexer": "ipython3",
   "version": "3.10.9"
  }
 },
 "nbformat": 4,
 "nbformat_minor": 5
}
