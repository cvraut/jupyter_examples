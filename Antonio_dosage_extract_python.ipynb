{
 "cells": [
  {
   "cell_type": "code",
   "execution_count": 2,
   "id": "b1fb7313-6e87-436b-a22c-fd66011dd03e",
   "metadata": {
    "execution": {
     "iopub.execute_input": "2023-07-28T22:41:12.251451Z",
     "iopub.status.busy": "2023-07-28T22:41:12.251030Z",
     "iopub.status.idle": "2023-07-28T22:41:13.798278Z",
     "shell.execute_reply": "2023-07-28T22:41:13.797728Z",
     "shell.execute_reply.started": "2023-07-28T22:41:12.251425Z"
    }
   },
   "outputs": [],
   "source": [
    "from bgen.reader import BgenFile, BgenReader\n",
    "import numpy as np\n",
    "import pandas as pd\n",
    "import seaborn as sns"
   ]
  },
  {
   "cell_type": "code",
   "execution_count": 3,
   "id": "fb378a7b-c5ab-4654-823b-3d2b88383f75",
   "metadata": {
    "execution": {
     "iopub.execute_input": "2023-07-28T22:41:14.526338Z",
     "iopub.status.busy": "2023-07-28T22:41:14.525913Z",
     "iopub.status.idle": "2023-07-28T22:41:14.531807Z",
     "shell.execute_reply": "2023-07-28T22:41:14.531294Z",
     "shell.execute_reply.started": "2023-07-28T22:41:14.526313Z"
    }
   },
   "outputs": [],
   "source": [
    "antonio_rsids = pd.read_table(\"/mnt/speliotes-lab/Projects/UK_ATLAS/IndivProj/Antonino/TGHDLadjBMI/data/IR_var_TGHDL_MAGIC_nomissing.txt\",header=None)"
   ]
  },
  {
   "cell_type": "code",
   "execution_count": 4,
   "id": "9673e1a9-1c19-401e-a6fa-8ad550c8437d",
   "metadata": {
    "execution": {
     "iopub.execute_input": "2023-07-28T22:41:15.924286Z",
     "iopub.status.busy": "2023-07-28T22:41:15.923877Z",
     "iopub.status.idle": "2023-07-28T22:41:15.936661Z",
     "shell.execute_reply": "2023-07-28T22:41:15.936198Z",
     "shell.execute_reply.started": "2023-07-28T22:41:15.924264Z"
    }
   },
   "outputs": [
    {
     "data": {
      "text/html": [
       "<div>\n",
       "<style scoped>\n",
       "    .dataframe tbody tr th:only-of-type {\n",
       "        vertical-align: middle;\n",
       "    }\n",
       "\n",
       "    .dataframe tbody tr th {\n",
       "        vertical-align: top;\n",
       "    }\n",
       "\n",
       "    .dataframe thead th {\n",
       "        text-align: right;\n",
       "    }\n",
       "</style>\n",
       "<table border=\"1\" class=\"dataframe\">\n",
       "  <thead>\n",
       "    <tr style=\"text-align: right;\">\n",
       "      <th></th>\n",
       "      <th>0</th>\n",
       "      <th>1</th>\n",
       "      <th>2</th>\n",
       "    </tr>\n",
       "  </thead>\n",
       "  <tbody>\n",
       "    <tr>\n",
       "      <th>0</th>\n",
       "      <td>1</td>\n",
       "      <td>219628973</td>\n",
       "      <td>rs6674544</td>\n",
       "    </tr>\n",
       "    <tr>\n",
       "      <th>1</th>\n",
       "      <td>2</td>\n",
       "      <td>630902</td>\n",
       "      <td>rs5017305</td>\n",
       "    </tr>\n",
       "    <tr>\n",
       "      <th>2</th>\n",
       "      <td>2</td>\n",
       "      <td>27177428</td>\n",
       "      <td>rs61007968</td>\n",
       "    </tr>\n",
       "    <tr>\n",
       "      <th>3</th>\n",
       "      <td>2</td>\n",
       "      <td>27730940</td>\n",
       "      <td>rs1260326</td>\n",
       "    </tr>\n",
       "    <tr>\n",
       "      <th>4</th>\n",
       "      <td>2</td>\n",
       "      <td>65296280</td>\n",
       "      <td>rs2252867</td>\n",
       "    </tr>\n",
       "    <tr>\n",
       "      <th>...</th>\n",
       "      <td>...</td>\n",
       "      <td>...</td>\n",
       "      <td>...</td>\n",
       "    </tr>\n",
       "    <tr>\n",
       "      <th>230</th>\n",
       "      <td>1</td>\n",
       "      <td>72835410</td>\n",
       "      <td>rs2613505</td>\n",
       "    </tr>\n",
       "    <tr>\n",
       "      <th>231</th>\n",
       "      <td>14</td>\n",
       "      <td>52480621</td>\n",
       "      <td>rs6572807</td>\n",
       "    </tr>\n",
       "    <tr>\n",
       "      <th>232</th>\n",
       "      <td>11</td>\n",
       "      <td>26281664</td>\n",
       "      <td>rs1461396</td>\n",
       "    </tr>\n",
       "    <tr>\n",
       "      <th>233</th>\n",
       "      <td>4</td>\n",
       "      <td>89753225</td>\n",
       "      <td>rs4425336</td>\n",
       "    </tr>\n",
       "    <tr>\n",
       "      <th>234</th>\n",
       "      <td>5</td>\n",
       "      <td>56195846</td>\n",
       "      <td>rs252913</td>\n",
       "    </tr>\n",
       "  </tbody>\n",
       "</table>\n",
       "<p>235 rows × 3 columns</p>\n",
       "</div>"
      ],
      "text/plain": [
       "      0          1           2\n",
       "0     1  219628973   rs6674544\n",
       "1     2     630902   rs5017305\n",
       "2     2   27177428  rs61007968\n",
       "3     2   27730940   rs1260326\n",
       "4     2   65296280   rs2252867\n",
       "..   ..        ...         ...\n",
       "230   1   72835410   rs2613505\n",
       "231  14   52480621   rs6572807\n",
       "232  11   26281664   rs1461396\n",
       "233   4   89753225   rs4425336\n",
       "234   5   56195846    rs252913\n",
       "\n",
       "[235 rows x 3 columns]"
      ]
     },
     "execution_count": 4,
     "metadata": {},
     "output_type": "execute_result"
    }
   ],
   "source": [
    "antonio_rsids"
   ]
  },
  {
   "cell_type": "code",
   "execution_count": 5,
   "id": "a3004741-45e2-4a33-89d0-5ca69cff49b6",
   "metadata": {
    "execution": {
     "iopub.execute_input": "2023-07-28T22:41:17.854542Z",
     "iopub.status.busy": "2023-07-28T22:41:17.854213Z",
     "iopub.status.idle": "2023-07-28T22:41:19.416198Z",
     "shell.execute_reply": "2023-07-28T22:41:19.415617Z",
     "shell.execute_reply.started": "2023-07-28T22:41:17.854520Z"
    }
   },
   "outputs": [],
   "source": [
    "with BgenReader(\"/mnt/speliotes-lab/Projects/UK_ATLAS/GENODATA/BGEN_New/ukb_imp_chr1_v3.bgen\", delay_parsing=True) as bfile:\n",
    "    var = bfile.with_rsid(\"rs6674544\")"
   ]
  },
  {
   "cell_type": "code",
   "execution_count": 6,
   "id": "455e9d80-5af0-40c0-bd38-924cbb236fd1",
   "metadata": {
    "execution": {
     "iopub.execute_input": "2023-07-28T22:41:19.417420Z",
     "iopub.status.busy": "2023-07-28T22:41:19.417163Z",
     "iopub.status.idle": "2023-07-28T22:41:19.425842Z",
     "shell.execute_reply": "2023-07-28T22:41:19.425397Z",
     "shell.execute_reply.started": "2023-07-28T22:41:19.417400Z"
    }
   },
   "outputs": [
    {
     "data": {
      "text/plain": [
       "array([1., 2., 1., ..., 0., 2., 2.], dtype=float32)"
      ]
     },
     "execution_count": 6,
     "metadata": {},
     "output_type": "execute_result"
    }
   ],
   "source": [
    "var.alt_dosage"
   ]
  },
  {
   "cell_type": "code",
   "execution_count": 7,
   "id": "d92fe883-f119-4a47-bfb6-49af8789671f",
   "metadata": {
    "execution": {
     "iopub.execute_input": "2023-07-28T22:41:20.826758Z",
     "iopub.status.busy": "2023-07-28T22:41:20.826268Z",
     "iopub.status.idle": "2023-07-28T22:41:20.830975Z",
     "shell.execute_reply": "2023-07-28T22:41:20.830418Z",
     "shell.execute_reply.started": "2023-07-28T22:41:20.826736Z"
    }
   },
   "outputs": [
    {
     "name": "stdout",
     "output_type": "stream",
     "text": [
      "22\n"
     ]
    }
   ],
   "source": [
    "chr_rsids = {}\n",
    "for c,r in zip(antonio_rsids[0],antonio_rsids[2]):\n",
    "    if c not in chr_rsids:\n",
    "        chr_rsids[c] = set()\n",
    "    chr_rsids[c].add(r)\n",
    "print(len(chr_rsids))"
   ]
  },
  {
   "cell_type": "code",
   "execution_count": 34,
   "id": "f94ade65-7563-4dd4-9e5f-6d5922bf42a7",
   "metadata": {
    "execution": {
     "iopub.execute_input": "2023-07-28T22:56:53.304581Z",
     "iopub.status.busy": "2023-07-28T22:56:53.304195Z",
     "iopub.status.idle": "2023-07-28T22:59:20.062401Z",
     "shell.execute_reply": "2023-07-28T22:59:20.061734Z",
     "shell.execute_reply.started": "2023-07-28T22:56:53.304556Z"
    }
   },
   "outputs": [
    {
     "name": "stdout",
     "output_type": "stream",
     "text": [
      "starting chr 1\n",
      "done with chr 1, len(variants) = 13\n",
      "starting chr 2\n",
      "done with chr 2, len(variants) = 44\n",
      "starting chr 3\n",
      "done with chr 3, len(variants) = 61\n",
      "starting chr 4\n",
      "done with chr 4, len(variants) = 78\n",
      "starting chr 5\n",
      "done with chr 5, len(variants) = 90\n",
      "starting chr 6\n",
      "done with chr 6, len(variants) = 113\n",
      "starting chr 7\n",
      "done with chr 7, len(variants) = 126\n",
      "starting chr 8\n",
      "done with chr 8, len(variants) = 140\n",
      "starting chr 9\n",
      "done with chr 9, len(variants) = 147\n",
      "starting chr 10\n",
      "done with chr 10, len(variants) = 157\n",
      "starting chr 11\n",
      "done with chr 11, len(variants) = 166\n",
      "starting chr 12\n",
      "done with chr 12, len(variants) = 188\n",
      "starting chr 13\n",
      "done with chr 13, len(variants) = 191\n",
      "starting chr 14\n",
      "done with chr 14, len(variants) = 192\n",
      "starting chr 15\n",
      "done with chr 15, len(variants) = 194\n",
      "starting chr 16\n",
      "done with chr 16, len(variants) = 200\n",
      "starting chr 17\n",
      "done with chr 17, len(variants) = 206\n",
      "starting chr 18\n",
      "done with chr 18, len(variants) = 209\n",
      "starting chr 19\n",
      "done with chr 19, len(variants) = 221\n",
      "starting chr 20\n",
      "done with chr 20, len(variants) = 232\n",
      "starting chr 21\n",
      "done with chr 21, len(variants) = 232\n",
      "starting chr 22\n",
      "done with chr 22, len(variants) = 234\n",
      "234\n"
     ]
    }
   ],
   "source": [
    "variants = []\n",
    "for chrom in range(1,23):\n",
    "    print(\"starting chr {}\".format(chrom))\n",
    "    with BgenReader(\"/mnt/speliotes-lab/Projects/UK_ATLAS/GENODATA/BGEN_New/ukb_imp_chr{}_v3.bgen\".format(chrom), delay_parsing=True) as bfile:\n",
    "        rsids = bfile.rsids()\n",
    "        for i,rsid in enumerate(rsids):\n",
    "            if rsid in chr_rsids[chrom]:\n",
    "                #print(rsid)\n",
    "                var = bfile[i]\n",
    "                variants.append(var)\n",
    "    print(\"done with chr {}, len(variants) = {}\".format(chrom,len(variants)))\n",
    "print(len(variants))"
   ]
  },
  {
   "cell_type": "code",
   "execution_count": 42,
   "id": "c1a5a4a6-863e-4ee0-9cad-1ccb0c9d0048",
   "metadata": {
    "execution": {
     "iopub.execute_input": "2023-07-28T23:03:23.750819Z",
     "iopub.status.busy": "2023-07-28T23:03:23.750433Z",
     "iopub.status.idle": "2023-07-28T23:03:23.867791Z",
     "shell.execute_reply": "2023-07-28T23:03:23.867287Z",
     "shell.execute_reply.started": "2023-07-28T23:03:23.750794Z"
    }
   },
   "outputs": [
    {
     "data": {
      "text/html": [
       "<div>\n",
       "<style scoped>\n",
       "    .dataframe tbody tr th:only-of-type {\n",
       "        vertical-align: middle;\n",
       "    }\n",
       "\n",
       "    .dataframe tbody tr th {\n",
       "        vertical-align: top;\n",
       "    }\n",
       "\n",
       "    .dataframe thead th {\n",
       "        text-align: right;\n",
       "    }\n",
       "</style>\n",
       "<table border=\"1\" class=\"dataframe\">\n",
       "  <thead>\n",
       "    <tr style=\"text-align: right;\">\n",
       "      <th></th>\n",
       "      <th>ID_1</th>\n",
       "      <th>ID_2</th>\n",
       "      <th>missing</th>\n",
       "      <th>sex</th>\n",
       "    </tr>\n",
       "  </thead>\n",
       "  <tbody>\n",
       "    <tr>\n",
       "      <th>0</th>\n",
       "      <td>2563202</td>\n",
       "      <td>2563202</td>\n",
       "      <td>0</td>\n",
       "      <td>1</td>\n",
       "    </tr>\n",
       "    <tr>\n",
       "      <th>1</th>\n",
       "      <td>5046258</td>\n",
       "      <td>5046258</td>\n",
       "      <td>0</td>\n",
       "      <td>2</td>\n",
       "    </tr>\n",
       "    <tr>\n",
       "      <th>2</th>\n",
       "      <td>1711817</td>\n",
       "      <td>1711817</td>\n",
       "      <td>0</td>\n",
       "      <td>2</td>\n",
       "    </tr>\n",
       "    <tr>\n",
       "      <th>3</th>\n",
       "      <td>4464917</td>\n",
       "      <td>4464917</td>\n",
       "      <td>0</td>\n",
       "      <td>2</td>\n",
       "    </tr>\n",
       "    <tr>\n",
       "      <th>4</th>\n",
       "      <td>5399174</td>\n",
       "      <td>5399174</td>\n",
       "      <td>0</td>\n",
       "      <td>2</td>\n",
       "    </tr>\n",
       "    <tr>\n",
       "      <th>...</th>\n",
       "      <td>...</td>\n",
       "      <td>...</td>\n",
       "      <td>...</td>\n",
       "      <td>...</td>\n",
       "    </tr>\n",
       "    <tr>\n",
       "      <th>487404</th>\n",
       "      <td>4348388</td>\n",
       "      <td>4348388</td>\n",
       "      <td>0</td>\n",
       "      <td>2</td>\n",
       "    </tr>\n",
       "    <tr>\n",
       "      <th>487405</th>\n",
       "      <td>5253315</td>\n",
       "      <td>5253315</td>\n",
       "      <td>0</td>\n",
       "      <td>2</td>\n",
       "    </tr>\n",
       "    <tr>\n",
       "      <th>487406</th>\n",
       "      <td>5539040</td>\n",
       "      <td>5539040</td>\n",
       "      <td>0</td>\n",
       "      <td>1</td>\n",
       "    </tr>\n",
       "    <tr>\n",
       "      <th>487407</th>\n",
       "      <td>5821524</td>\n",
       "      <td>5821524</td>\n",
       "      <td>0</td>\n",
       "      <td>2</td>\n",
       "    </tr>\n",
       "    <tr>\n",
       "      <th>487408</th>\n",
       "      <td>4835432</td>\n",
       "      <td>4835432</td>\n",
       "      <td>0</td>\n",
       "      <td>1</td>\n",
       "    </tr>\n",
       "  </tbody>\n",
       "</table>\n",
       "<p>487409 rows × 4 columns</p>\n",
       "</div>"
      ],
      "text/plain": [
       "           ID_1     ID_2  missing  sex\n",
       "0       2563202  2563202        0    1\n",
       "1       5046258  5046258        0    2\n",
       "2       1711817  1711817        0    2\n",
       "3       4464917  4464917        0    2\n",
       "4       5399174  5399174        0    2\n",
       "...         ...      ...      ...  ...\n",
       "487404  4348388  4348388        0    2\n",
       "487405  5253315  5253315        0    2\n",
       "487406  5539040  5539040        0    1\n",
       "487407  5821524  5821524        0    2\n",
       "487408  4835432  4835432        0    1\n",
       "\n",
       "[487409 rows x 4 columns]"
      ]
     },
     "execution_count": 42,
     "metadata": {},
     "output_type": "execute_result"
    }
   ],
   "source": [
    "# import samples file\n",
    "samples = pd.read_table(\"/mnt/speliotes-lab/Projects/UK_ATLAS/GENODATA/BGEN_New/ukb18120_imp_chr22_v2_s487395.sample\",names = [\"ID_1\",\"ID_2\",\"missing\",\"sex\"],skiprows=2,sep=\" \")\n",
    "samples"
   ]
  },
  {
   "cell_type": "code",
   "execution_count": 47,
   "id": "d5eaffaa-c344-4e77-a5ce-d729ceb16d64",
   "metadata": {
    "execution": {
     "iopub.execute_input": "2023-07-28T23:11:06.335977Z",
     "iopub.status.busy": "2023-07-28T23:11:06.335585Z",
     "iopub.status.idle": "2023-07-28T23:11:06.917354Z",
     "shell.execute_reply": "2023-07-28T23:11:06.916772Z",
     "shell.execute_reply.started": "2023-07-28T23:11:06.335949Z"
    }
   },
   "outputs": [],
   "source": [
    "# verify with a couple variants, but I believe this file is REF_FIRST\n",
    "df_dict = {\"eids\":list(samples.ID_1)}\n",
    "for i,var in enumerate(variants):\n",
    "    df_dict[\"{}({})\".format(var.rsid,\"-\".join([s.strip() for s in var.alleles]))] = var.alt_dosage\n",
    "df = pd.DataFrame(df_dict)\n",
    "#df"
   ]
  },
  {
   "cell_type": "code",
   "execution_count": 46,
   "id": "acf39e38-89f1-4bb3-8bef-3a45ea1d5c3a",
   "metadata": {
    "execution": {
     "iopub.execute_input": "2023-07-28T23:08:11.165620Z",
     "iopub.status.busy": "2023-07-28T23:08:11.165252Z",
     "iopub.status.idle": "2023-07-28T23:08:56.384478Z",
     "shell.execute_reply": "2023-07-28T23:08:56.383598Z",
     "shell.execute_reply.started": "2023-07-28T23:08:11.165596Z"
    }
   },
   "outputs": [],
   "source": [
    "# save results to csv file\n",
    "df.to_csv(\"Antonio_example_dosages.csv\",index=False)"
   ]
  }
 ],
 "metadata": {
  "kernelspec": {
   "display_name": "Python 3 (ipykernel)",
   "language": "python",
   "name": "python3"
  },
  "language_info": {
   "codemirror_mode": {
    "name": "ipython",
    "version": 3
   },
   "file_extension": ".py",
   "mimetype": "text/x-python",
   "name": "python",
   "nbconvert_exporter": "python",
   "pygments_lexer": "ipython3",
   "version": "3.10.9"
  }
 },
 "nbformat": 4,
 "nbformat_minor": 5
}
